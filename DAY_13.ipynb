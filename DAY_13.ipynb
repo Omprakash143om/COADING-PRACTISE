{
  "nbformat": 4,
  "nbformat_minor": 0,
  "metadata": {
    "colab": {
      "provenance": [],
      "authorship_tag": "ABX9TyMtD1K0z8or3IFIr3mxz5oW"
    },
    "kernelspec": {
      "name": "python3",
      "display_name": "Python 3"
    },
    "language_info": {
      "name": "python"
    }
  },
  "cells": [
    {
      "cell_type": "markdown",
      "source": [
        "**DAY** **13**"
      ],
      "metadata": {
        "id": "S1Q0dFp1AG0Q"
      }
    },
    {
      "cell_type": "markdown",
      "source": [
        "**Three Great Candidates**\n",
        "\n",
        "The hiring team aims to find 3 candidates who are great collectively. Each candidate has his\n",
        "or her ability expressed as an integer. 3 candidates are great collectively if the product of their\n",
        "abilities is maximum. Given the abilities of some candidates in an array, arr[], return the\n",
        "maximum collective ability from the pool of candidates.\n",
        "\n",
        "Examples:\n",
        "\n",
        "Input: arr[] = [10, 3, 5, 6, 20]\n",
        "\n",
        "Output: 1200\n",
        "\n",
        "Explanation: Multiplication of 10, 6, and 20 is 1200.\n",
        "Input: arr[] = [-10, -3, -5, -6, -20]\n",
        "Output: -90\n",
        "Explanation: Multiplication of -3, -5 and -6 is -90"
      ],
      "metadata": {
        "id": "J0Gb_PQKAJ3l"
      }
    },
    {
      "cell_type": "code",
      "execution_count": 1,
      "metadata": {
        "colab": {
          "base_uri": "https://localhost:8080/"
        },
        "id": "EU9WQqMrADDP",
        "outputId": "640086b6-c308-4838-f655-01b2cd29c812"
      },
      "outputs": [
        {
          "output_type": "stream",
          "name": "stdout",
          "text": [
            "Enter the abilities of candidates (space-separated integers): 10 3 5 6 20\n",
            "The maximum collective ability from the pool of candidates is: 1200\n"
          ]
        }
      ],
      "source": [
        "def maxProductOfThree(arr):\n",
        "    # Sort the array\n",
        "    arr.sort()\n",
        "\n",
        "    # The maximum product can be either:\n",
        "    # 1. The product of the three largest numbers\n",
        "    # 2. The product of the two smallest (most negative) numbers and the largest number\n",
        "    max_product = max(arr[-1] * arr[-2] * arr[-3], arr[0] * arr[1] * arr[-1])\n",
        "\n",
        "    return max_product\n",
        "\n",
        "# User input\n",
        "arr = list(map(int, input(\"Enter the abilities of candidates (space-separated integers): \").split()))\n",
        "\n",
        "# Calculate and display the result\n",
        "result = maxProductOfThree(arr)\n",
        "print(f\"The maximum collective ability from the pool of candidates is: {result}\")\n"
      ]
    },
    {
      "cell_type": "code",
      "source": [
        "# User input\n",
        "arr = list(map(int, input(\"Enter the abilities of candidates (space-separated integers): \").split()))\n",
        "\n",
        "# Sort the array\n",
        "arr.sort()\n",
        "\n",
        "# The maximum product can be either:\n",
        "# 1. The product of the three largest numbers\n",
        "# 2. The product of the two smallest (most negative) numbers and the largest number\n",
        "max_product = max(arr[-1] * arr[-2] * arr[-3], arr[0] * arr[1] * arr[-1])\n",
        "\n",
        "# Output the result\n",
        "print(f\"The maximum collective ability from the pool of candidates is: {max_product}\")\n"
      ],
      "metadata": {
        "colab": {
          "base_uri": "https://localhost:8080/"
        },
        "id": "LjfUYY90XC8y",
        "outputId": "be7ffdfa-c2b5-4dc9-8749-cdd0a27a457f"
      },
      "execution_count": 2,
      "outputs": [
        {
          "output_type": "stream",
          "name": "stdout",
          "text": [
            "Enter the abilities of candidates (space-separated integers): -10 -3 -5 -6 -20\n",
            "The maximum collective ability from the pool of candidates is: -90\n"
          ]
        }
      ]
    },
    {
      "cell_type": "markdown",
      "source": [
        "**Professor and Parties**\n",
        "\n",
        "A professor attended a party and classified it into two categories based on the colors of the\n",
        "robes. If all party members are wearing different colored robes, represented by positive\n",
        "integers in the array arr[], then it is a girl's only party. If there is at least one duplicate color,\n",
        "it is a boy's party. Determine the type of party by returning “BOYS” if it’s a boy’s party,\n",
        "otherwise, return “GIRLS”.\n",
        "\n",
        "Examples:\n",
        "\n",
        "Input: arr[] = [1, 2, 3, 4, 7]\n",
        "\n",
        "Output: GIRLS\n",
        "\n",
        "Explanation: All the colors are unique so it's a GIRLS party.\n",
        "Input: arr[] = [1, 3, 2, 4, 5, 1]\n",
        "Output: BOYS\n",
        "Explanation: There are two colors 1. So it's a BOYS party."
      ],
      "metadata": {
        "id": "y3QiTBtGXJwM"
      }
    },
    {
      "cell_type": "code",
      "source": [
        "# User input\n",
        "arr = list(map(int, input(\"Enter the colors of the robes (space-separated integers): \").split()))\n",
        "\n",
        "# Use a set to check for duplicates\n",
        "if len(arr) == len(set(arr)):\n",
        "    print(\"GIRLS\")\n",
        "else:\n",
        "    print(\"BOYS\")\n"
      ],
      "metadata": {
        "colab": {
          "base_uri": "https://localhost:8080/"
        },
        "id": "3A_609DHXUdT",
        "outputId": "70ad4da8-2681-48d1-a33f-eeb6f58d30f2"
      },
      "execution_count": 3,
      "outputs": [
        {
          "output_type": "stream",
          "name": "stdout",
          "text": [
            "Enter the colors of the robes (space-separated integers): 1 2 3 4 5\n",
            "GIRLS\n"
          ]
        }
      ]
    },
    {
      "cell_type": "code",
      "source": [
        "def determine_party_type(arr):\n",
        "    # Use a set to check for duplicates\n",
        "    if len(arr) == len(set(arr)):\n",
        "        return \"GIRLS\"\n",
        "    else:\n",
        "        return \"BOYS\"\n",
        "\n",
        "# User input\n",
        "arr = list(map(int, input(\"Enter the colors of the robes (space-separated integers): \").split()))\n",
        "\n",
        "# Determine and display the type of party\n",
        "result = determine_party_type(arr)\n",
        "print(result)\n"
      ],
      "metadata": {
        "colab": {
          "base_uri": "https://localhost:8080/"
        },
        "id": "DR2Ybq5NXabe",
        "outputId": "ef08cbcd-e9ff-4a30-9cf8-af2a52863e47"
      },
      "execution_count": 4,
      "outputs": [
        {
          "output_type": "stream",
          "name": "stdout",
          "text": [
            "Enter the colors of the robes (space-separated integers): 1 2 2 4 3 5\n",
            "BOYS\n"
          ]
        }
      ]
    },
    {
      "cell_type": "markdown",
      "source": [
        "**Indexes of Subarray Sum**\n",
        "\n",
        "Given an unsorted array arr of size n that contains only non negative integers, find a subarray (continuous elements) that has sum equal to s. You mainly need to return the left and\n",
        "right indexes(1-based indexing) of that subarray.\n",
        "In case of multiple subarrays, return the subarray indexes which come first on moving from\n",
        "left to right. If no such subarray exists return an array consisting of element -1.\n",
        "\n",
        "Examples:\n",
        "\n",
        "Input: arr[] = [1,2,3,7,5], n = 5, s = 12\n",
        "\n",
        "Output: 2 4\n",
        "\n",
        "Explanation: The sum of elements from 2nd to 4th position is 12.\n",
        "Input: arr[] = [1,2,3,4,5,6,7,8,9,10], n = 10, s = 15,\n",
        "Output: 1 5\n",
        "Explanation: The sum of elements from 1st to 5th position is 15.\n",
        "Input: arr[] = [7,2,1], n = 3, s = 2\n",
        "Output: 2 2\n",
        "Explanation: The sum of elements from 2nd to 2nd position is 2.\n",
        "Input: arr[] = [5,3,4], n = 3, s = 2\n",
        "Output: -1\n",
        "Explanation: There is no subarray with sum 2"
      ],
      "metadata": {
        "id": "yrnPuz2XXeRk"
      }
    },
    {
      "cell_type": "code",
      "source": [
        "def find_subarray_with_sum(arr, s):\n",
        "    n = len(arr)\n",
        "    start = 0\n",
        "    current_sum = 0\n",
        "\n",
        "    for end in range(n):\n",
        "        current_sum += arr[end]\n",
        "\n",
        "        while current_sum > s and start <= end:\n",
        "            current_sum -= arr[start]\n",
        "            start += 1\n",
        "\n",
        "        if current_sum == s:\n",
        "            # Return 1-based indexing\n",
        "            return (start + 1, end + 1)\n",
        "\n",
        "    return (-1,)\n",
        "\n",
        "# User input\n",
        "n = int(input(\"Enter the size of the array: \"))\n",
        "arr = list(map(int, input(f\"Enter {n} array elements (space-separated integers): \").split()))\n",
        "s = int(input(\"Enter the target sum: \"))\n",
        "\n",
        "# Check if the number of elements matches the specified size\n",
        "if len(arr) != n:\n",
        "    print(\"The number of elements does not match the specified size.\")\n",
        "else:\n",
        "    # Find and display the subarray indexes\n",
        "    result = find_subarray_with_sum(arr, s)\n",
        "    if result == (-1,):\n",
        "        print(-1)\n",
        "    else:\n",
        "        print(result[0], result[1])\n"
      ],
      "metadata": {
        "colab": {
          "base_uri": "https://localhost:8080/"
        },
        "id": "q00AjlNZXr1U",
        "outputId": "27e00808-a184-4ed4-d8f4-e93388118dbd"
      },
      "execution_count": 8,
      "outputs": [
        {
          "output_type": "stream",
          "name": "stdout",
          "text": [
            "Enter the size of the array: 5\n",
            "Enter 5 array elements (space-separated integers): 1 5 2 4 3\n",
            "Enter the target sum: 12\n",
            "1 4\n"
          ]
        }
      ]
    },
    {
      "cell_type": "code",
      "source": [
        "# User input\n",
        "n = int(input(\"Enter the size of the array: \"))\n",
        "arr = list(map(int, input(f\"Enter {n} array elements (space-separated integers): \").split()))\n",
        "s = int(input(\"Enter the target sum: \"))\n",
        "\n",
        "# Initialize variables for sliding window\n",
        "start = 0\n",
        "current_sum = 0\n",
        "found = False\n",
        "\n",
        "# Iterate through the array\n",
        "for end in range(n):\n",
        "    current_sum += arr[end]\n",
        "\n",
        "    # Adjust the window to reduce the sum if it exceeds the target\n",
        "    while current_sum > s and start <= end:\n",
        "        current_sum -= arr[start]\n",
        "        start += 1\n",
        "\n",
        "    # Check if the current window matches the target sum\n",
        "    if current_sum == s:\n",
        "        print(start + 1, end + 1)  # Print 1-based indices\n",
        "        found = True\n",
        "        break\n",
        "\n",
        "# If no subarray with the sum is found, print -1\n",
        "if not found:\n",
        "    print(-1)\n"
      ],
      "metadata": {
        "colab": {
          "base_uri": "https://localhost:8080/"
        },
        "id": "A9dTsl8sYAW-",
        "outputId": "030a22c8-ad77-431e-cdcf-b8aa8d4bbb51"
      },
      "execution_count": 9,
      "outputs": [
        {
          "output_type": "stream",
          "name": "stdout",
          "text": [
            "Enter the size of the array: 3\n",
            "Enter 3 array elements (space-separated integers): 4 1 3\n",
            "Enter the target sum: 3\n",
            "3 3\n"
          ]
        }
      ]
    },
    {
      "cell_type": "markdown",
      "source": [
        "**Array Duplicates**\n",
        "\n",
        "Given an array arr of size n which contains elements in range from 0 to n-1, you need to find\n",
        "all the elements occurring more than once in the given array. Return the answer in ascending\n",
        "order. If no such element is found, return list containing [-1].\n",
        "\n",
        "Examples:\n",
        "\n",
        "Input: n = 4, arr[] = [0,3,1,2]\n",
        "\n",
        "Output: -1\n",
        "\n",
        "Explanation: There is no repeating element in the array. Therefore output is -1.\n",
        "Input: n = 5, arr[] = [2,3,1,2,3]\n",
        "Output: 2 3\n",
        "Explanation: 2 and 3 occur more than once in the given array."
      ],
      "metadata": {
        "id": "iEQcz1n6ZDX5"
      }
    },
    {
      "cell_type": "code",
      "source": [
        "# User input\n",
        "n = int(input(\"Enter the size of the array: \"))\n",
        "arr = list(map(int, input(f\"Enter {n} array elements (space-separated integers): \").split()))\n",
        "\n",
        "# Initialize a set to track seen elements and a set to store duplicates\n",
        "seen = set()\n",
        "duplicates = set()\n",
        "\n",
        "# Find duplicates\n",
        "for num in arr:\n",
        "    if num in seen:\n",
        "        duplicates.add(num)\n",
        "    else:\n",
        "        seen.add(num)\n",
        "\n",
        "# Convert duplicates to a sorted list\n",
        "duplicates = sorted(duplicates)\n",
        "\n",
        "# Output the results\n",
        "if duplicates:\n",
        "    print(' '.join(map(str, duplicates)))\n",
        "else:\n",
        "    print(-1)\n"
      ],
      "metadata": {
        "colab": {
          "base_uri": "https://localhost:8080/"
        },
        "id": "7nLGflNVZLXE",
        "outputId": "f1fc5fd9-268c-4b16-e453-1e820d8b2a1a"
      },
      "execution_count": 10,
      "outputs": [
        {
          "output_type": "stream",
          "name": "stdout",
          "text": [
            "Enter the size of the array: 4\n",
            "Enter 4 array elements (space-separated integers): 0 3 1 2\n",
            "-1\n"
          ]
        }
      ]
    },
    {
      "cell_type": "code",
      "source": [
        "def find_duplicates(arr):\n",
        "    # Initialize sets to track seen elements and duplicates\n",
        "    seen = set()\n",
        "    duplicates = set()\n",
        "\n",
        "    # Find duplicates\n",
        "    for num in arr:\n",
        "        if num in seen:\n",
        "            duplicates.add(num)\n",
        "        else:\n",
        "            seen.add(num)\n",
        "\n",
        "    # Convert duplicates to a sorted list\n",
        "    duplicates = sorted(duplicates)\n",
        "\n",
        "    return duplicates\n",
        "\n",
        "# User input\n",
        "n = int(input(\"Enter the size of the array: \"))\n",
        "arr = list(map(int, input(f\"Enter {n} array elements (space-separated integers): \").split()))\n",
        "\n",
        "# Find and display duplicates\n",
        "result = find_duplicates(arr)\n",
        "if result:\n",
        "    print(' '.join(map(str, result)))\n",
        "else:\n",
        "    print(-1)\n"
      ],
      "metadata": {
        "colab": {
          "base_uri": "https://localhost:8080/"
        },
        "id": "BXxWt3E4ZVTY",
        "outputId": "fb17cb95-f170-4227-c801-029caa1593ae"
      },
      "execution_count": 11,
      "outputs": [
        {
          "output_type": "stream",
          "name": "stdout",
          "text": [
            "Enter the size of the array: 5\n",
            "Enter 5 array elements (space-separated integers): 2 1 2 4 4\n",
            "2 4\n"
          ]
        }
      ]
    },
    {
      "cell_type": "markdown",
      "source": [
        "**Frogs and Jumps**\n",
        "\n",
        "N frogs are positioned at one end of the pond. All frogs want to reach the other end of the\n",
        "pond as soon as possible. The pond has some leaves arranged in a straight line. Each frog has\n",
        "the strength to jump exactly K leaves. For example, a frog having strength 2 will visit the\n",
        "leaves 2, 4, 6, ... etc. while crossing the pond.\n",
        "Given the strength of each frog and the number of leaves, your task is to find the number of\n",
        "leaves that not be visited by any of the frogs when all frogs have reached the other end of the\n",
        "pond.\n",
        "\n",
        "Example 1:\n",
        "\n",
        "Input:\n",
        "\n",
        "N = 3\n",
        "\n",
        "leaves = 4\n",
        "\n",
        "frogs[] = {3, 2, 4}\n",
        "\n",
        "Output: 1\n",
        "\n",
        "Explanation:\n",
        "Leaf 1 will not be visited by any frog.\n",
        "\n",
        "Example 2:\n",
        "Input:\n",
        "N = 3\n",
        "leaves = 6\n",
        "frogs[] = {1, 3, 5}\n",
        "Output: 0\n",
        "Explanation:\n",
        "First frog will visit all the leaves so no\n",
        "leaf is left unvisited."
      ],
      "metadata": {
        "id": "dysbGyJkZX9R"
      }
    },
    {
      "cell_type": "code",
      "source": [
        "def count_unvisited_leaves(n, leaves, frogs):\n",
        "    # Create a boolean list to track visited leaves\n",
        "    visited = [False] * (leaves + 1)\n",
        "\n",
        "    # Mark leaves visited by each frog\n",
        "    for frog_strength in frogs:\n",
        "        for leaf in range(frog_strength, leaves + 1, frog_strength):\n",
        "            visited[leaf] = True\n",
        "\n",
        "    # Count leaves that are not visited\n",
        "    unvisited_count = visited[1:].count(False)  # ignore index 0 as leaves are 1-based\n",
        "\n",
        "    return unvisited_count\n",
        "\n",
        "# User input\n",
        "n = int(input(\"Enter the number of frogs: \"))\n",
        "leaves = int(input(\"Enter the number of leaves: \"))\n",
        "frogs = list(map(int, input(f\"Enter the strengths of {n} frogs (space-separated integers): \").split()))\n",
        "\n",
        "# Find and display the number of unvisited leaves\n",
        "result = count_unvisited_leaves(n, leaves, frogs)\n",
        "print(result)\n"
      ],
      "metadata": {
        "colab": {
          "base_uri": "https://localhost:8080/"
        },
        "id": "bR5oI9DGZh6l",
        "outputId": "2363245f-b580-437b-af26-62aef8c47dd5"
      },
      "execution_count": 12,
      "outputs": [
        {
          "output_type": "stream",
          "name": "stdout",
          "text": [
            "Enter the number of frogs: 3\n",
            "Enter the number of leaves: 4\n",
            "Enter the strengths of 3 frogs (space-separated integers): 3 2 4\n",
            "1\n"
          ]
        }
      ]
    },
    {
      "cell_type": "code",
      "source": [
        "# User input\n",
        "n = int(input(\"Enter the number of frogs: \"))\n",
        "leaves = int(input(\"Enter the number of leaves: \"))\n",
        "frogs = list(map(int, input(f\"Enter the strengths of {n} frogs (space-separated integers): \").split()))\n",
        "\n",
        "# Create a boolean list to track visited leaves\n",
        "visited = [False] * (leaves + 1)\n",
        "\n",
        "# Mark leaves visited by each frog\n",
        "for frog_strength in frogs:\n",
        "    for leaf in range(frog_strength, leaves + 1, frog_strength):\n",
        "        visited[leaf] = True\n",
        "\n",
        "# Count leaves that are not visited\n",
        "unvisited_count = visited[1:].count(False)  # Ignore index 0 as leaves are 1-based\n",
        "\n",
        "# Output the number of unvisited leaves\n",
        "print(unvisited_count)\n"
      ],
      "metadata": {
        "colab": {
          "base_uri": "https://localhost:8080/"
        },
        "id": "ilGlFlWiZp4T",
        "outputId": "ef16449d-a04c-454a-deeb-3b9a44e07705"
      },
      "execution_count": 13,
      "outputs": [
        {
          "output_type": "stream",
          "name": "stdout",
          "text": [
            "Enter the number of frogs: 3\n",
            "Enter the number of leaves: 6\n",
            "Enter the strengths of 3 frogs (space-separated integers): 1 3 5\n",
            "0\n"
          ]
        }
      ]
    }
  ]
}