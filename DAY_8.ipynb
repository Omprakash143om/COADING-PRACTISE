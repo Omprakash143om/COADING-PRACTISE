{
  "nbformat": 4,
  "nbformat_minor": 0,
  "metadata": {
    "colab": {
      "provenance": [],
      "authorship_tag": "ABX9TyPVUX2/my2SH62bSc60FiRq"
    },
    "kernelspec": {
      "name": "python3",
      "display_name": "Python 3"
    },
    "language_info": {
      "name": "python"
    }
  },
  "cells": [
    {
      "cell_type": "markdown",
      "source": [
        "**DAY** **8**"
      ],
      "metadata": {
        "id": "DYgLEWms52mq"
      }
    },
    {
      "cell_type": "markdown",
      "source": [
        "**Reversing** **the** **vowels**\n",
        "\n",
        "Given a string consisting of lowercase english alphabets, reverse only the vowels present in it\n",
        "and print the resulting string.\n",
        "\n",
        "Example 1:\n",
        "\n",
        "Input:\n",
        "S = \"geeksforgeeks\"\n",
        "Output: geeksforgeeks\n",
        "\n",
        "Explanation: The vowels are: e, e, o, e, e\n",
        "Reverse of these is also e, e, o, e, e.\n",
        "\n",
        "Example 2:\n",
        "\n",
        "Input:\n",
        "S = \"practice\"\n",
        "Output: prectica\n",
        "Explanation: The vowels are a, i, e\n",
        "Reverse of these is e, i, a.\n",
        "Example 3:\n",
        "Input:\n",
        "S = \"bcdfg\"\n",
        "Output: bcdfg\n",
        "Explanation: There are no vowels in S"
      ],
      "metadata": {
        "id": "9WEFZTOB5810"
      }
    },
    {
      "cell_type": "code",
      "execution_count": null,
      "metadata": {
        "colab": {
          "base_uri": "https://localhost:8080/"
        },
        "id": "-np5mdBI5xnx",
        "outputId": "8f779103-d964-4dd6-8d1a-a9ced6f8251d"
      },
      "outputs": [
        {
          "output_type": "stream",
          "name": "stdout",
          "text": [
            "Enter a string consisting of lowercase English alphabets: practice\n",
            "Output: prectica\n"
          ]
        }
      ],
      "source": [
        "def reverse_vowels(s):\n",
        "    vowels = 'aeiou'\n",
        "    # Extract the vowels from the string\n",
        "    vowel_list = [char for char in s if char in vowels]\n",
        "\n",
        "    # Reverse the list of vowels\n",
        "    vowel_list.reverse()\n",
        "\n",
        "    # Build the resulting string with reversed vowels\n",
        "    result = []\n",
        "    for char in s:\n",
        "        if char in vowels:\n",
        "            result.append(vowel_list.pop(0))\n",
        "        else:\n",
        "            result.append(char)\n",
        "\n",
        "    return ''.join(result)\n",
        "\n",
        "# Get input from the user\n",
        "input_string = input(\"Enter a string consisting of lowercase English alphabets: \")\n",
        "output_string = reverse_vowels(input_string)\n",
        "print(\"Output:\", output_string)\n"
      ]
    },
    {
      "cell_type": "markdown",
      "source": [
        "**Remove vowels** **from string**\n",
        "\n",
        "Given a string, remove the vowels from the string.\n",
        "\n",
        "Example 1:\n",
        "\n",
        "Input: S = \"welcome to geeksforgeeks\"\n",
        "Output: wlcm t gksfrgks\n",
        "Explanation: Ignore vowels and print other\n",
        "characters\n",
        "\n",
        "Example 2:\n",
        "\n",
        "Input: S = \"what is your name ?\"\n",
        "Output: wht s yr nm ?\n",
        "Explanation: Ignore vowels and print other\n",
        "characters"
      ],
      "metadata": {
        "id": "YBlRVqYG7sVj"
      }
    },
    {
      "cell_type": "code",
      "source": [
        "def remove_vowels(s):\n",
        "    vowels = 'aeiou'\n",
        "    # Remove vowels from the string\n",
        "    result = ''.join(char for char in s if char not in vowels)\n",
        "    return result\n",
        "\n",
        "# Get input from the user\n",
        "input_string = input(\"Enter a string: \")\n",
        "output_string = remove_vowels(input_string)\n",
        "print(\"Output:\", output_string)\n"
      ],
      "metadata": {
        "colab": {
          "base_uri": "https://localhost:8080/"
        },
        "id": "sVf0kCVm73c_",
        "outputId": "3c060551-4ae3-4212-c22d-e2312214627b"
      },
      "execution_count": null,
      "outputs": [
        {
          "output_type": "stream",
          "name": "stdout",
          "text": [
            "Enter a string: what is your name ?\n",
            "Output: wht s yr nm ?\n"
          ]
        }
      ]
    },
    {
      "cell_type": "markdown",
      "source": [
        "**Program** **to print reciprocal of letters**\n",
        "\n",
        "Given a string S, we need to find reciprocal of it. The reciprocal of the letter is found by\n",
        "finding the difference between the position of the letter and the first letter ‘A’. Then\n",
        "decreasing the same number of steps from the last letter ‘Z’. The character that we reach after\n",
        "above steps is reciprocal.\n",
        "Reciprocal of Z is A and vice versa because if you reverse the position of the alphabet A will\n",
        "be in the position of Z.\n",
        "Similarly, if the letter is a small case then the first letter will be 'a' and the last letter will be\n",
        "'z'. and the definition of reciprocal remains the same.\n",
        "Note: If the character is not a letter its reciprocal will be the same character.\n",
        "\n",
        "Example 1:\n",
        "Input:\n",
        "S = \"ab C\"\n",
        "Output:\n",
        "zy X\n",
        "Explanation:\n",
        "The reciprocal of the first letter 'a' is 'z'.\n",
        "The reciprocal of the second letter 'b' is 'y'.\n",
        "The reciprocal of the third letter ' ' is ' '.\n",
        "The reciprocal of the last letter 'C' is 'X'.\n",
        "\n",
        "Example 2:\n",
        "Input:\n",
        "S = \"Ish\"\n",
        "Output:\n",
        "Rhs\n",
        "Explanation:\n",
        "The reciprocal of the first letter 'I' is 'R'.\n",
        "The reciprocal of the second letter 's' is 'h'.\n",
        "The reciprocal of the third letter 'h' is 's'"
      ],
      "metadata": {
        "id": "Zp_bjqNr8T5T"
      }
    },
    {
      "cell_type": "code",
      "source": [
        "def reciprocal_of_letter(letter):\n",
        "    if 'a' <= letter <= 'z':\n",
        "        # Reciprocal for lowercase letters\n",
        "        return chr(ord('z') - (ord(letter) - ord('a')))\n",
        "    elif 'A' <= letter <= 'Z':\n",
        "        # Reciprocal for uppercase letters\n",
        "        return chr(ord('Z') - (ord(letter) - ord('A')))\n",
        "    else:\n",
        "        # Non-alphabetic characters remain unchanged\n",
        "        return letter\n",
        "\n",
        "def reciprocal_string(s):\n",
        "    return ''.join(reciprocal_of_letter(char) for char in s)\n",
        "\n",
        "# Get input from the user\n",
        "input_string = input(\"Enter a string: \")\n",
        "output_string = reciprocal_string(input_string)\n",
        "print(\"Output:\", output_string)\n"
      ],
      "metadata": {
        "colab": {
          "base_uri": "https://localhost:8080/"
        },
        "id": "ktHp0KiM8q5O",
        "outputId": "b6a4e911-c849-46bd-8adf-b75abf61b974"
      },
      "execution_count": null,
      "outputs": [
        {
          "output_type": "stream",
          "name": "stdout",
          "text": [
            "Enter a string: ab C\n",
            "Output: zy X\n"
          ]
        }
      ]
    },
    {
      "cell_type": "code",
      "source": [
        "def reciprocal_of_letter(letter):\n",
        "    if 'a' <= letter <= 'z':\n",
        "        return chr(219 - ord(letter))  # 219 = 2 * 'a' + 25\n",
        "    elif 'A' <= letter <= 'Z':\n",
        "        return chr(155 - ord(letter))  # 155 = 2 * 'A' + 25\n",
        "    return letter\n",
        "\n",
        "def reciprocal_string(s):\n",
        "    return ''.join(reciprocal_of_letter(char) for char in s)\n",
        "\n",
        "# Get input from the user\n",
        "input_string = input(\"Enter a string: \")\n",
        "print(\"Output:\", reciprocal_string(input_string))\n"
      ],
      "metadata": {
        "colab": {
          "base_uri": "https://localhost:8080/"
        },
        "id": "9fdDZRt5-HuD",
        "outputId": "e70ff3ad-2333-4314-a604-02961a1830e9"
      },
      "execution_count": null,
      "outputs": [
        {
          "output_type": "stream",
          "name": "stdout",
          "text": [
            "Enter a string: ab  CDF\n",
            "Output: zy  XWU\n"
          ]
        }
      ]
    },
    {
      "cell_type": "markdown",
      "source": [
        "**Triangle** **shrinking downwards**\n",
        "\n",
        "Given a string of a constant length, print a triangle out of it. The triangle should start with the\n",
        "given string and keeps shrinking downwards by removing one character from the begining of\n",
        "the string. The spaces on the left side of the triangle should be replaced with dot character.\n",
        "\n",
        "Example 1:\n",
        "\n",
        "Input:\n",
        "S = Geeks\n",
        "Output:\n",
        "\n",
        "Geeks\n",
        "\n",
        ".eeks\n",
        "\n",
        "..eks\n",
        "\n",
        "...ks\n",
        "\n",
        "....s\n",
        "\n",
        "Example 2:\n",
        "\n",
        "Input:\n",
        "S = @io30\n",
        "Output:\n",
        "\n",
        "@io30\n",
        "\n",
        ".io30\n",
        "\n",
        "..o30\n",
        "\n",
        "...3\n",
        "\n",
        "....0"
      ],
      "metadata": {
        "id": "6FHKWt5a-LMn"
      }
    },
    {
      "cell_type": "code",
      "source": [
        "def print_triangle(s):\n",
        "    length = len(s)\n",
        "    for i in range(length):\n",
        "        # Create the left padding with dots\n",
        "        padding = '.' * i\n",
        "        # Slice the string to remove one character from the beginning\n",
        "        line = s[i:]\n",
        "        # Print the current line\n",
        "        print(padding + line)\n",
        "\n",
        "# Get input from the user\n",
        "input_string = input(\"Enter a string: \")\n",
        "print_triangle(input_string)\n"
      ],
      "metadata": {
        "colab": {
          "base_uri": "https://localhost:8080/"
        },
        "id": "_rlNyDxp-jBE",
        "outputId": "82af24c5-136f-44c9-a1f7-f343c6fb7120"
      },
      "execution_count": null,
      "outputs": [
        {
          "output_type": "stream",
          "name": "stdout",
          "text": [
            "Enter a string: Geeks\n",
            "Geeks\n",
            ".eeks\n",
            "..eks\n",
            "...ks\n",
            "....s\n"
          ]
        }
      ]
    },
    {
      "cell_type": "code",
      "source": [
        "def print_triangle(s):\n",
        "    length = len(s)\n",
        "    for i in range(length):\n",
        "        # Initialize the line with dots\n",
        "        line = \"\"\n",
        "        # Add dots for the current row\n",
        "        for j in range(i):\n",
        "            line += \".\"\n",
        "        # Add the substring from the current index\n",
        "        line += s[i:]\n",
        "        # Print the line\n",
        "        print(line)\n",
        "\n",
        "# Get input from the user\n",
        "input_string = input(\"Enter a string: \")\n",
        "print_triangle(input_string)\n"
      ],
      "metadata": {
        "colab": {
          "base_uri": "https://localhost:8080/"
        },
        "id": "tVofNNAM-15S",
        "outputId": "faef2ec3-be68-4902-c171-7ebd7dee968a"
      },
      "execution_count": null,
      "outputs": [
        {
          "output_type": "stream",
          "name": "stdout",
          "text": [
            "Enter a string: omprakash\n",
            "omprakash\n",
            ".mprakash\n",
            "..prakash\n",
            "...rakash\n",
            "....akash\n",
            ".....kash\n",
            "......ash\n",
            ".......sh\n",
            "........h\n"
          ]
        }
      ]
    },
    {
      "cell_type": "markdown",
      "source": [
        "**Remove** **characters from alphanumeric string**\n",
        "\n",
        "Remove all characters except the numeric characters from an alphanumeric string.\n",
        "\n",
        "Example 1:\n",
        "\n",
        "Input: S = \"AA1d23cBB4\"\n",
        "Output: 1234\n",
        "Explanation: Remove all characters\n",
        "other than numbers\n",
        "\n",
        "Example 2:\n",
        "\n",
        "Input: S = \"a1b2c3\"\n",
        "Output: 123\n",
        "Explanation: Remove all characters\n",
        "other than numbers"
      ],
      "metadata": {
        "id": "gTJGjCm9-_pN"
      }
    },
    {
      "cell_type": "code",
      "source": [
        "def remove_non_numeric(s):\n",
        "    result = \"\"\n",
        "    for char in s:\n",
        "        if char.isdigit():\n",
        "            result += char\n",
        "    return result\n",
        "\n",
        "# Get input from the user\n",
        "input_string = input(\"Enter an alphanumeric string: \")\n",
        "output_string = remove_non_numeric(input_string)\n",
        "print(\"Output:\", output_string)\n"
      ],
      "metadata": {
        "colab": {
          "base_uri": "https://localhost:8080/"
        },
        "id": "jzR8rMHF_L3O",
        "outputId": "84a819c0-aec3-4bad-8bcb-d7f983c8231e"
      },
      "execution_count": null,
      "outputs": [
        {
          "output_type": "stream",
          "name": "stdout",
          "text": [
            "Enter an alphanumeric string: a1b2c3\n",
            "Output: 123\n"
          ]
        }
      ]
    }
  ]
}