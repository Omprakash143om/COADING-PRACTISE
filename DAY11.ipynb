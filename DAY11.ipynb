{
  "nbformat": 4,
  "nbformat_minor": 0,
  "metadata": {
    "colab": {
      "provenance": [],
      "authorship_tag": "ABX9TyN6c13v0wr+kgaB/Sknozqq"
    },
    "kernelspec": {
      "name": "python3",
      "display_name": "Python 3"
    },
    "language_info": {
      "name": "python"
    }
  },
  "cells": [
    {
      "cell_type": "markdown",
      "source": [
        "**DAY** **11**"
      ],
      "metadata": {
        "id": "CsBJHTSqfudO"
      }
    },
    {
      "cell_type": "markdown",
      "source": [
        "**String Rotated by 2 Places**\n",
        "\n",
        "Difficulty: EasyAccuracy: 32.7%Submissions: 222K+Points: 2\n",
        "Given two strings a and b. The task is to find if the string 'b' can be obtained by rotating (in\n",
        "any direction) string 'a' by exactly 2 places.\n",
        "Example 1:\n",
        "Input:\n",
        "a = amazon\n",
        "b = azonam\n",
        "Output:\n",
        "1\n",
        "Explanation:\n",
        "amazon can be rotated anti-clockwise by two places, which will make it as azonam.\n",
        "Example 2:\n",
        "Input:\n",
        "a = geeksforgeeks\n",
        "b = geeksgeeksfor\n",
        "Output:\n",
        "0\n",
        "Explanation:\n",
        "If we rotate geeksforgeeks by two place in any direction, we won't get geeksgeeksfor"
      ],
      "metadata": {
        "id": "UWRMRzJEf422"
      }
    },
    {
      "cell_type": "code",
      "source": [
        "def is_rotated_by_two_places(a, b):\n",
        "    # Check if lengths of both strings are equal\n",
        "    if len(a) != len(b):\n",
        "        return 0\n",
        "\n",
        "    # Left rotation by 2 places\n",
        "    left_rotation = a[2:] + a[:2]\n",
        "\n",
        "    # Right rotation by 2 places\n",
        "    right_rotation = a[-2:] + a[:-2]\n",
        "\n",
        "    # Check if b matches either rotation\n",
        "    if b == left_rotation or b == right_rotation:\n",
        "        return 1\n",
        "    else:\n",
        "        return 0\n",
        "\n",
        "# Input from user\n",
        "a = input(\"Enter string a: \")\n",
        "b = input(\"Enter string b: \")\n",
        "\n",
        "# Function call and output\n",
        "result = is_rotated_by_two_places(a, b)\n",
        "print(result)\n"
      ],
      "metadata": {
        "colab": {
          "base_uri": "https://localhost:8080/"
        },
        "id": "XbK4n-3ZkKRB",
        "outputId": "8d56b900-c43f-4996-ef77-e3040576cdb8"
      },
      "execution_count": 1,
      "outputs": [
        {
          "output_type": "stream",
          "name": "stdout",
          "text": [
            "Enter string a: amazon\n",
            "Enter string b: azonam\n",
            "1\n"
          ]
        }
      ]
    },
    {
      "cell_type": "code",
      "source": [
        "# Input from user\n",
        "a = input(\"Enter string a: \")\n",
        "b = input(\"Enter string b: \")\n",
        "\n",
        "# Check if lengths of both strings are equal\n",
        "if len(a) != len(b):\n",
        "    print(0)\n",
        "else:\n",
        "    # Left rotation by 2 places\n",
        "    left_rotation = a[2:] + a[:2]\n",
        "\n",
        "    # Right rotation by 2 places\n",
        "    right_rotation = a[-2:] + a[:-2]\n",
        "\n",
        "    # Check if b matches either rotation\n",
        "    if b == left_rotation or b == right_rotation:\n",
        "        print(1)\n",
        "    else:\n",
        "        print(0)\n"
      ],
      "metadata": {
        "colab": {
          "base_uri": "https://localhost:8080/"
        },
        "id": "l0JqNTkgww7Z",
        "outputId": "939f2292-fd9e-4566-cfc7-d8c2a2f5bb20"
      },
      "execution_count": 2,
      "outputs": [
        {
          "output_type": "stream",
          "name": "stdout",
          "text": [
            "Enter string a: geeksforgeeks\n",
            "Enter string b: geeksgeeksfor\n",
            "0\n"
          ]
        }
      ]
    },
    {
      "cell_type": "markdown",
      "source": [
        "**Non Repeating Characte**r **bold text**\n",
        "\n",
        "Difficulty: EasyAccuracy: 40.43%Submissions: 219K+Points: 2\n",
        "Given a string s consisting of lowercase Latin Letters. Return the first non-repeating\n",
        "character in s. If there is no non-repeating character, return '$'.\n",
        "Note : When you return '$' driver code will output -1.\n",
        "Examples:\n",
        "Input:\n",
        "s = hello\n",
        "Output: h\n",
        "Explanation: In the given string, the first character which is non-repeating is h, as it appears\n",
        "first and there is no other 'h' in the string.\n",
        "Input:\n",
        "s = zxvczbtxyzvy\n",
        "Output: c\n",
        "Explanation: In the given string, 'c' is the character which is non-repeating"
      ],
      "metadata": {
        "id": "dVv0W1I0xJ_j"
      }
    },
    {
      "cell_type": "code",
      "source": [
        "# Input from user\n",
        "s = input(\"Enter the string: \")\n",
        "\n",
        "# Dictionary to store the frequency of characters\n",
        "char_count = {}\n",
        "\n",
        "# Counting the frequency of each character in the string\n",
        "for char in s:\n",
        "    if char in char_count:\n",
        "        char_count[char] += 1\n",
        "    else:\n",
        "        char_count[char] = 1\n",
        "\n",
        "# Finding the first non-repeating character\n",
        "non_repeating_char = '$'\n",
        "for char in s:\n",
        "    if char_count[char] == 1:\n",
        "        non_repeating_char = char\n",
        "        break\n",
        "\n",
        "# Output the result\n",
        "if non_repeating_char == '$':\n",
        "    print(-1)\n",
        "else:\n",
        "    print(non_repeating_char)\n"
      ],
      "metadata": {
        "colab": {
          "base_uri": "https://localhost:8080/"
        },
        "id": "9HBNWnjyxNJK",
        "outputId": "aafc2a23-7dbf-4022-b871-3332180e6b2d"
      },
      "execution_count": 3,
      "outputs": [
        {
          "output_type": "stream",
          "name": "stdout",
          "text": [
            "Enter the string: hello\n",
            "h\n"
          ]
        }
      ]
    },
    {
      "cell_type": "code",
      "source": [
        "def first_non_repeating_char(s):\n",
        "    # Dictionary to store the frequency of characters\n",
        "    char_count = {}\n",
        "\n",
        "    # Counting the frequency of each character in the string\n",
        "    for char in s:\n",
        "        if char in char_count:\n",
        "            char_count[char] += 1\n",
        "        else:\n",
        "            char_count[char] = 1\n",
        "\n",
        "    # Finding the first non-repeating character\n",
        "    for char in s:\n",
        "        if char_count[char] == 1:\n",
        "            return char\n",
        "\n",
        "    # If no non-repeating character is found, return '$'\n",
        "    return '$'\n",
        "\n",
        "# Input from user\n",
        "s = input(\"Enter the string: \")\n",
        "\n",
        "# Function call and output\n",
        "result = first_non_repeating_char(s)\n",
        "\n",
        "# Output the result\n",
        "if result == '$':\n",
        "    print(-1)\n",
        "else:\n",
        "    print(result)\n"
      ],
      "metadata": {
        "colab": {
          "base_uri": "https://localhost:8080/"
        },
        "id": "XIpcDAaGxd2v",
        "outputId": "6d4d135e-3dbe-4cd2-86ed-e88327307945"
      },
      "execution_count": 4,
      "outputs": [
        {
          "output_type": "stream",
          "name": "stdout",
          "text": [
            "Enter the string: helloh\n",
            "e\n"
          ]
        }
      ]
    },
    {
      "cell_type": "markdown",
      "source": [
        "**Remove Duplicates**\n",
        "\n",
        "Difficulty: EasyAccuracy: 52.35%Submissions: 132K+Points: 2\n",
        "Given a string str without spaces, the task is to remove all duplicate characters from it,\n",
        "keeping only the first occurrence.\n",
        "Note: The original order of characters must be kept the same.\n",
        "Examples :\n",
        "Input: str = \"zvvo\"\n",
        "Output: \"zvo\"\n",
        "Explanation: Only keep the first occurrence\n",
        "Input: str = \"gfg\"\n",
        "Output: \"gf\n",
        "Explanation: Only keep the first occurrence\n"
      ],
      "metadata": {
        "id": "4cy3TWg4xlN1"
      }
    },
    {
      "cell_type": "code",
      "source": [
        "def remove_duplicates(input_str):\n",
        "    # Set to keep track of seen characters\n",
        "    seen = set()\n",
        "\n",
        "    # List to store characters in the result string\n",
        "    result = []\n",
        "\n",
        "    # Iterate through each character in the input string\n",
        "    for char in input_str:\n",
        "        # If the character is not in the seen set, add it to the result\n",
        "        if char not in seen:\n",
        "            result.append(char)\n",
        "            seen.add(char)\n",
        "\n",
        "    # Join the list into a string and return it\n",
        "    return ''.join(result)\n",
        "\n",
        "# Input from user\n",
        "input_str = input(\"Enter the string: \")\n",
        "\n",
        "# Function call and output\n",
        "result = remove_duplicates(input_str)\n",
        "print(result)\n"
      ],
      "metadata": {
        "colab": {
          "base_uri": "https://localhost:8080/"
        },
        "id": "zZ323h26xsNm",
        "outputId": "53404f8a-f0fa-4ba8-aea4-e310479b1979"
      },
      "execution_count": 5,
      "outputs": [
        {
          "output_type": "stream",
          "name": "stdout",
          "text": [
            "Enter the string: zvvo\n",
            "zvo\n"
          ]
        }
      ]
    },
    {
      "cell_type": "code",
      "source": [
        "# Input from user\n",
        "input_str = input(\"Enter the string: \")\n",
        "\n",
        "# Set to keep track of seen characters\n",
        "seen = set()\n",
        "\n",
        "# List to store characters in the result string\n",
        "result = []\n",
        "\n",
        "# Iterate through each character in the input string\n",
        "for char in input_str:\n",
        "    # If the character is not in the seen set, add it to the result\n",
        "    if char not in seen:\n",
        "        result.append(char)\n",
        "        seen.add(char)\n",
        "\n",
        "# Join the list into a string and print the result\n",
        "print(''.join(result))\n"
      ],
      "metadata": {
        "colab": {
          "base_uri": "https://localhost:8080/"
        },
        "id": "HTWH57fox2D-",
        "outputId": "50ddaa4e-6048-46a9-83a1-9ae9e4336a2e"
      },
      "execution_count": 6,
      "outputs": [
        {
          "output_type": "stream",
          "name": "stdout",
          "text": [
            "Enter the string: oommpprraakkaasshh\n",
            "ompraksh\n"
          ]
        }
      ]
    },
    {
      "cell_type": "markdown",
      "source": [
        "**Roman Number to Integer**\n",
        "\n",
        "Difficulty: EasyAccuracy: 43.31%Submissions: 173K+Points: 2\n",
        "Given a string in roman no format (s) your task is to convert it to an integer . Various\n",
        "symbols and their values are given below.\n",
        "I 1\n",
        "V 5\n",
        "X 10\n",
        "L 50\n",
        "C 100\n",
        "D 500\n",
        "M 1000\n",
        "Example 1:\n",
        "Input:\n",
        "s = V\n",
        "Output: 5\n",
        "Example 2:\n",
        "Input:\n",
        "s = III\n",
        "Output: 3"
      ],
      "metadata": {
        "id": "_C3HrT_mx5nV"
      }
    },
    {
      "cell_type": "code",
      "source": [
        "# Dictionary to map Roman numerals to their integer values\n",
        "roman_to_int = {\n",
        "    'I': 1,\n",
        "    'V': 5,\n",
        "    'X': 10,\n",
        "    'L': 50,\n",
        "    'C': 100,\n",
        "    'D': 500,\n",
        "    'M': 1000\n",
        "}\n",
        "\n",
        "# Input from user\n",
        "s = input(\"Enter the Roman numeral: \")\n",
        "\n",
        "# Initialize the total to 0\n",
        "total = 0\n",
        "\n",
        "# Iterate through the string\n",
        "for i in range(len(s)):\n",
        "    # If the current value is less than the next value, subtract it\n",
        "    if i + 1 < len(s) and roman_to_int[s[i]] < roman_to_int[s[i + 1]]:\n",
        "        total -= roman_to_int[s[i]]\n",
        "    else:\n",
        "        # Otherwise, add it to the total\n",
        "        total += roman_to_int[s[i]]\n",
        "\n",
        "# Output the result\n",
        "print(total)\n"
      ],
      "metadata": {
        "colab": {
          "base_uri": "https://localhost:8080/"
        },
        "id": "ek4T5vSxx_VG",
        "outputId": "e0e79e1a-eeaf-43df-fbb2-70aa330e25ac"
      },
      "execution_count": 8,
      "outputs": [
        {
          "output_type": "stream",
          "name": "stdout",
          "text": [
            "Enter the Roman numeral: III\n",
            "3\n"
          ]
        }
      ]
    },
    {
      "cell_type": "code",
      "source": [
        "def roman_to_integer(s):\n",
        "    # Dictionary to map Roman numerals to their integer values\n",
        "    roman_to_int = {\n",
        "        'I': 1,\n",
        "        'V': 5,\n",
        "        'X': 10,\n",
        "        'L': 50,\n",
        "        'C': 100,\n",
        "        'D': 500,\n",
        "        'M': 1000\n",
        "    }\n",
        "\n",
        "    # Initialize the total to 0\n",
        "    total = 0\n",
        "\n",
        "    # Iterate through the string\n",
        "    for i in range(len(s)):\n",
        "        # If the current value is less than the next value, subtract it\n",
        "        if i + 1 < len(s) and roman_to_int[s[i]] < roman_to_int[s[i + 1]]:\n",
        "            total -= roman_to_int[s[i]]\n",
        "        else:\n",
        "            # Otherwise, add it to the total\n",
        "            total += roman_to_int[s[i]]\n",
        "\n",
        "    return total\n",
        "\n",
        "# Input from user\n",
        "s = input(\"Enter the Roman numeral: \")\n",
        "\n",
        "# Function call and output\n",
        "result = roman_to_integer(s)\n",
        "print(result)\n"
      ],
      "metadata": {
        "colab": {
          "base_uri": "https://localhost:8080/"
        },
        "id": "6nWvJY8rykVQ",
        "outputId": "4eb00dcd-b026-4f3e-8b0b-e79fd9a57967"
      },
      "execution_count": 9,
      "outputs": [
        {
          "output_type": "stream",
          "name": "stdout",
          "text": [
            "Enter the Roman numeral: VII\n",
            "7\n"
          ]
        }
      ]
    }
  ]
}