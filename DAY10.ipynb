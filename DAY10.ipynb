{
  "nbformat": 4,
  "nbformat_minor": 0,
  "metadata": {
    "colab": {
      "provenance": [],
      "authorship_tag": "ABX9TyMe/mi/W9pIP9EB5mwiIaAH"
    },
    "kernelspec": {
      "name": "python3",
      "display_name": "Python 3"
    },
    "language_info": {
      "name": "python"
    }
  },
  "cells": [
    {
      "cell_type": "markdown",
      "source": [
        "**DAY** **10**"
      ],
      "metadata": {
        "id": "S4HUlVORS3vR"
      }
    },
    {
      "cell_type": "markdown",
      "source": [
        "**Count** **the** **Zeros**\n",
        "\n",
        "Given an array arr of only 0's and 1's. The array is sorted in such a\n",
        "manner that all the 1's are placed first and then they are followed by all\n",
        "the 0's. Find the count of all the 0's.\n",
        "Examples:\n",
        "Input: arr[] = [1, 1, 1, 1, 1, 1, 1, 1, 1, 0, 0, 0]\n",
        "Output: 3\n",
        "Explanation: There are 3 0's in the given array.\n",
        "Input: arr[] = [0, 0, 0, 0, 0]\n",
        "Output: 5\n",
        "Explanation: There are 5 0's in the array.\n"
      ],
      "metadata": {
        "id": "qbiF-8xSS7Xi"
      }
    },
    {
      "cell_type": "code",
      "execution_count": 1,
      "metadata": {
        "colab": {
          "base_uri": "https://localhost:8080/"
        },
        "id": "iXSWyrsBSkQ4",
        "outputId": "efe0bd41-7c52-41cf-b173-a4a19bb8171e"
      },
      "outputs": [
        {
          "output_type": "stream",
          "name": "stdout",
          "text": [
            "Enter the elements of the array (only 0's and 1's) separated by space: 1 1 1 1 1 1 1 1 0 0 0\n",
            "Number of 0's in the array: 3\n"
          ]
        }
      ],
      "source": [
        "def count_zeros(arr):\n",
        "    # Counting the number of 0's in the array\n",
        "    return arr.count(0)\n",
        "\n",
        "# Taking user input\n",
        "arr = list(map(int, input(\"Enter the elements of the array (only 0's and 1's) separated by space: \").split()))\n",
        "\n",
        "# Finding and printing the count of zeros\n",
        "print(\"Number of 0's in the array:\", count_zeros(arr))\n"
      ]
    },
    {
      "cell_type": "code",
      "source": [
        "# Taking user input\n",
        "arr = list(map(int, input(\"Enter the elements of the array (only 0's and 1's) separated by space: \").split()))\n",
        "\n",
        "# Counting the number of 0's in the array\n",
        "zero_count = arr.count(0)\n",
        "\n",
        "# Printing the count of zeros\n",
        "print(\"Number of 0's in the array:\", zero_count)\n"
      ],
      "metadata": {
        "colab": {
          "base_uri": "https://localhost:8080/"
        },
        "id": "D6ZjYou-Uhad",
        "outputId": "7115e88c-36e6-46a6-b2db-71a5487a670d"
      },
      "execution_count": 2,
      "outputs": [
        {
          "output_type": "stream",
          "name": "stdout",
          "text": [
            "Enter the elements of the array (only 0's and 1's) separated by space: 0 0 0 0 1 0 0 0 1 0 0\n",
            "Number of 0's in the array: 9\n"
          ]
        }
      ]
    },
    {
      "cell_type": "markdown",
      "source": [
        "**Find** **the smallest and second smallest** **element**\n",
        "\n",
        "Given an array, arr of integers, your task is to return the smallest and\n",
        "second smallest element in the array. If the smallest and second\n",
        "smallest do not exist, return -1.\n",
        "Examples:\n",
        "Input: arr[] = [2, 4, 3, 5, 6]\n",
        "Output: 2 3\n",
        "Explanation: 2 and 3 are respectively the smallest\n",
        "and second smallest elements in the array.\n",
        "Input: arr[] = [1, 1, 1]\n",
        "Output: -1\n",
        "Explanation: Only element is 1 which is smallest, so\n",
        "there is no second smallest element.\n"
      ],
      "metadata": {
        "id": "Niv_1af0Uqsk"
      }
    },
    {
      "cell_type": "code",
      "source": [
        "# Taking user input\n",
        "arr = list(map(int, input(\"Enter the elements of the array separated by space: \").split()))\n",
        "\n",
        "# Sorting and finding the smallest and second smallest elements\n",
        "if len(arr) < 2:\n",
        "    print(-1)\n",
        "else:\n",
        "    # Remove duplicates\n",
        "    arr = list(set(arr))\n",
        "    if len(arr) < 2:\n",
        "        print(-1)\n",
        "    else:\n",
        "        arr.sort()\n",
        "        print(arr[0], arr[1])\n"
      ],
      "metadata": {
        "colab": {
          "base_uri": "https://localhost:8080/"
        },
        "id": "hu-ZBL-nUv2m",
        "outputId": "54c746e0-22e4-43f1-9ce0-e378eb8ff526"
      },
      "execution_count": 3,
      "outputs": [
        {
          "output_type": "stream",
          "name": "stdout",
          "text": [
            "Enter the elements of the array separated by space: 0 1 2 4 5 3\n",
            "0 1\n"
          ]
        }
      ]
    },
    {
      "cell_type": "code",
      "source": [
        "def find_smallest_and_second_smallest(arr):\n",
        "    # Remove duplicates and sort the array\n",
        "    unique_elements = sorted(set(arr))\n",
        "\n",
        "    # Check if there are at least two unique elements\n",
        "    if len(unique_elements) < 2:\n",
        "        return -1\n",
        "    else:\n",
        "        return unique_elements[0], unique_elements[1]\n",
        "\n",
        "# Taking user input\n",
        "arr = list(map(int, input(\"Enter the elements of the array separated by space: \").split()))\n",
        "\n",
        "# Finding and printing the smallest and second smallest elements\n",
        "result = find_smallest_and_second_smallest(arr)\n",
        "\n",
        "if result == -1:\n",
        "    print(result)\n",
        "else:\n",
        "    print(result[0], result[1])\n"
      ],
      "metadata": {
        "colab": {
          "base_uri": "https://localhost:8080/"
        },
        "id": "ScZewceyU9VR",
        "outputId": "17d3cdb1-bff6-4c46-cedc-a9d11726b49c"
      },
      "execution_count": 4,
      "outputs": [
        {
          "output_type": "stream",
          "name": "stdout",
          "text": [
            "Enter the elements of the array separated by space: 0 0 0 0 0 0\n",
            "-1\n"
          ]
        }
      ]
    },
    {
      "cell_type": "markdown",
      "source": [
        "**Last index of One**\n",
        "\n",
        "Given a string s consisting of only '0's and '1's, find the last index of the '1' present.\n",
        "Note: If '1' is not present, return \"-1\"\n",
        "Examples:\n",
        "Input: s = 00001\n",
        "Output: 4\n",
        "Explanation: Last index of 1 in given string is 4.\n",
        "Input: s = 0\n",
        "Output: -1\n",
        "Explanation: Since, 1 is not present, so output is -1."
      ],
      "metadata": {
        "id": "zFRN8wMmVHiK"
      }
    },
    {
      "cell_type": "code",
      "source": [
        "def last_index_of_one(s):\n",
        "    # Find the last occurrence of '1'\n",
        "    index = s.rfind('1')\n",
        "\n",
        "    # If '1' is not found, return -1\n",
        "    if index == -1:\n",
        "        return \"-1\"\n",
        "    else:\n",
        "        return index\n",
        "\n",
        "# Taking user input\n",
        "s = input(\"Enter the string consisting of only '0's and '1's: \")\n",
        "\n",
        "# Finding and printing the last index of '1'\n",
        "print(last_index_of_one(s))\n"
      ],
      "metadata": {
        "colab": {
          "base_uri": "https://localhost:8080/"
        },
        "id": "A0marFPTVKoE",
        "outputId": "fca197aa-b15f-4f61-85a5-08eb22f82f1b"
      },
      "execution_count": 6,
      "outputs": [
        {
          "output_type": "stream",
          "name": "stdout",
          "text": [
            "Enter the string consisting of only '0's and '1's: 0101011\n",
            "6\n"
          ]
        }
      ]
    },
    {
      "cell_type": "code",
      "source": [
        "# Taking user input\n",
        "s = input(\"Enter the string consisting of only '0's and '1's: \")\n",
        "\n",
        "# Finding the last index of '1'\n",
        "index = s.rfind('1')\n",
        "\n",
        "# If '1' is not found, set index to \"-1\"\n",
        "if index == -1:\n",
        "    print(\"-1\")\n",
        "else:\n",
        "    print(index)\n"
      ],
      "metadata": {
        "colab": {
          "base_uri": "https://localhost:8080/"
        },
        "id": "NB8TywJGVU5Z",
        "outputId": "6e74693b-9b1e-458b-9b55-47fc4bbbb0f3"
      },
      "execution_count": 7,
      "outputs": [
        {
          "output_type": "stream",
          "name": "stdout",
          "text": [
            "Enter the string consisting of only '0's and '1's: 000000\n",
            "-1\n"
          ]
        }
      ]
    },
    {
      "cell_type": "markdown",
      "source": [
        "**Find the fine**\n",
        "\n",
        "Given an array of car numbers car[], an array of penalties fine[], and an integer value date.\n",
        "The task is to find the total fine which will be collected on the given date. The fine is\n",
        "collected from odd-numbered cars on even dates and vice versa.\n",
        "Examples:\n",
        "Input: date = 12, car[] = [2375, 7682, 2325, 2352], fine[] = [250,\n",
        "500, 350, 200]\n",
        "Output: 600\n",
        "Explanation: The date is 12 (even), so we collect the fine from oddnumbered cars. The odd-numbered cars and the fines associated with\n",
        "them are as follows:\n",
        "2375 -> 250\n",
        "2325 -> 350\n",
        "The sum of the fines is 250+350 = 600\n",
        "Input: date = 8, car[] = [2222, 2223, 2224], fine[] = [200, 300,\n",
        "400]\n",
        "Output: 300"
      ],
      "metadata": {
        "id": "HqaCRSLcVemP"
      }
    },
    {
      "cell_type": "code",
      "source": [
        "# Taking user input for date, car numbers, and fines\n",
        "date = int(input(\"Enter the date: \"))\n",
        "car = list(map(int, input(\"Enter the car numbers separated by space: \").split()))\n",
        "fine = list(map(int, input(\"Enter the fines corresponding to the car numbers separated by space: \").split()))\n",
        "\n",
        "# Initialize total fine\n",
        "total_fine = 0\n",
        "\n",
        "# Check if the date is even or odd\n",
        "for i in range(len(car)):\n",
        "    # If the date is even, collect fine from odd-numbered cars\n",
        "    if date % 2 == 0 and car[i] % 2 != 0:\n",
        "        total_fine += fine[i]\n",
        "    # If the date is odd, collect fine from even-numbered cars\n",
        "    elif date % 2 != 0 and car[i] % 2 == 0:\n",
        "        total_fine += fine[i]\n",
        "\n",
        "# Print the total fine collected\n",
        "print(\"Total fine collected:\", total_fine)\n"
      ],
      "metadata": {
        "colab": {
          "base_uri": "https://localhost:8080/"
        },
        "id": "TqSpZl7HVg3B",
        "outputId": "199beb0a-2313-4c9f-bb04-911a02728aef"
      },
      "execution_count": 8,
      "outputs": [
        {
          "output_type": "stream",
          "name": "stdout",
          "text": [
            "Enter the date: 8\n",
            "Enter the car numbers separated by space: 2222 2223 2224\n",
            "Enter the fines corresponding to the car numbers separated by space: 200 300 400\n",
            "Total fine collected: 300\n"
          ]
        }
      ]
    },
    {
      "cell_type": "code",
      "source": [
        "def calculate_total_fine(date, car, fine):\n",
        "    total_fine = 0\n",
        "\n",
        "    # Check if the date is even or odd\n",
        "    for i in range(len(car)):\n",
        "        # If the date is even, collect fine from odd-numbered cars\n",
        "        if date % 2 == 0 and car[i] % 2 != 0:\n",
        "            total_fine += fine[i]\n",
        "        # If the date is odd, collect fine from even-numbered cars\n",
        "        elif date % 2 != 0 and car[i] % 2 == 0:\n",
        "            total_fine += fine[i]\n",
        "\n",
        "    return total_fine\n",
        "\n",
        "# Taking user input for date, car numbers, and fines\n",
        "date = int(input(\"Enter the date: \"))\n",
        "car = list(map(int, input(\"Enter the car numbers separated by space: \").split()))\n",
        "fine = list(map(int, input(\"Enter the fines corresponding to the car numbers separated by space: \").split()))\n",
        "\n",
        "# Calculating and printing the total fine collected\n",
        "total_fine = calculate_total_fine(date, car, fine)\n",
        "print(\"Total fine collected:\", total_fine)\n"
      ],
      "metadata": {
        "colab": {
          "base_uri": "https://localhost:8080/"
        },
        "id": "hle3VNf3Vw5X",
        "outputId": "435c6a9b-7a59-40a4-f2ac-95d12bbde802"
      },
      "execution_count": 9,
      "outputs": [
        {
          "output_type": "stream",
          "name": "stdout",
          "text": [
            "Enter the date: 1\n",
            "Enter the car numbers separated by space: 222 2012 2000\n",
            "Enter the fines corresponding to the car numbers separated by space: 200 100 300\n",
            "Total fine collected: 600\n"
          ]
        }
      ]
    },
    {
      "cell_type": "markdown",
      "source": [
        "**Sum of distinct elements**\n",
        "\n",
        "You are given an array Arr of size N. Find the sum of distinct elements in an array.\n",
        "Example 1:\n",
        "Input:\n",
        "N = 5\n",
        "Arr[] = {1, 2, 3, 4, 5}\n",
        "Output: 15\n",
        "Explanation: Distinct elements are 1, 2, 3\n",
        "4, 5. So sum is 15.\n",
        "Example 2:\n",
        "Input:\n",
        "N = 5\n",
        "Arr[] = {5, 5, 5, 5, 5}\n",
        "Output: 5\n",
        "Explanation: Only Distinct element is 5.\n",
        "So sum is 5."
      ],
      "metadata": {
        "id": "l9WCDIQ2Wchr"
      }
    },
    {
      "cell_type": "code",
      "source": [
        "def sum_of_distinct_elements(arr):\n",
        "    # Convert the array to a set to remove duplicates and then sum the elements\n",
        "    return sum(set(arr))\n",
        "\n",
        "# Taking user input for the array size and elements\n",
        "N = int(input(\"Enter the size of the array: \"))\n",
        "arr = list(map(int, input(\"Enter the elements of the array separated by space: \").split()))\n",
        "\n",
        "# Calculating and printing the sum of distinct elements\n",
        "result = sum_of_distinct_elements(arr)\n",
        "print(\"Sum of distinct elements:\", result)\n"
      ],
      "metadata": {
        "colab": {
          "base_uri": "https://localhost:8080/"
        },
        "id": "f3qH0VaeWjLv",
        "outputId": "4cefdb96-1266-443c-b626-98948024096d"
      },
      "execution_count": 11,
      "outputs": [
        {
          "output_type": "stream",
          "name": "stdout",
          "text": [
            "Enter the size of the array: 6\n",
            "Enter the elements of the array separated by space: 1 5 2 3 4 5\n",
            "Sum of distinct elements: 15\n"
          ]
        }
      ]
    },
    {
      "cell_type": "code",
      "source": [
        "# Taking user input for the array size and elements\n",
        "N = int(input(\"Enter the size of the array: \"))\n",
        "arr = list(map(int, input(\"Enter the elements of the array separated by space: \").split()))\n",
        "\n",
        "# Convert the array to a set to remove duplicates\n",
        "distinct_elements = set(arr)\n",
        "\n",
        "# Calculate the sum of distinct elements\n",
        "total_sum = sum(distinct_elements)\n",
        "\n",
        "# Print the sum of distinct elements\n",
        "print(\"Sum of distinct elements:\", total_sum)"
      ],
      "metadata": {
        "colab": {
          "base_uri": "https://localhost:8080/"
        },
        "id": "ovupalV2Ww4i",
        "outputId": "63914bea-b1f4-4882-c371-f927432c46e7"
      },
      "execution_count": 12,
      "outputs": [
        {
          "output_type": "stream",
          "name": "stdout",
          "text": [
            "Enter the size of the array: 5\n",
            "Enter the elements of the array separated by space: 2 2 2 2 2\n",
            "Sum of distinct elements: 2\n"
          ]
        }
      ]
    },
    {
      "cell_type": "code",
      "source": [],
      "metadata": {
        "id": "L8yFoiguXfN_"
      },
      "execution_count": null,
      "outputs": []
    }
  ]
}