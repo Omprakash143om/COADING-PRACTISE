{
  "nbformat": 4,
  "nbformat_minor": 0,
  "metadata": {
    "colab": {
      "provenance": [],
      "authorship_tag": "ABX9TyPfZ6ZP5RMsaFtz3TC/gfxd",
      "include_colab_link": true
    },
    "kernelspec": {
      "name": "python3",
      "display_name": "Python 3"
    },
    "language_info": {
      "name": "python"
    }
  },
  "cells": [
    {
      "cell_type": "markdown",
      "metadata": {
        "id": "view-in-github",
        "colab_type": "text"
      },
      "source": [
        "<a href=\"https://colab.research.google.com/github/Omprakash143om/COADING-PRACTISE/blob/PROGRAMS/DAY_9.ipynb\" target=\"_parent\"><img src=\"https://colab.research.google.com/assets/colab-badge.svg\" alt=\"Open In Colab\"/></a>"
      ]
    },
    {
      "cell_type": "markdown",
      "source": [
        "**DAY** **9**"
      ],
      "metadata": {
        "id": "zM3UGAQp_tth"
      }
    },
    {
      "cell_type": "markdown",
      "source": [
        "**Sum of Series**\n",
        "\n",
        "Write a program to find the sum of the given series 1+2+3+ . . . . . . (n terms)\n",
        "\n",
        "Examples:\n",
        "\n",
        "Input: n = 1\n",
        "Output: 1\n",
        "Explanation: For n = 1, the sum will be 1.\n",
        "\n",
        "Input: n = 5\n",
        "Output: 15\n",
        "Explanation: For n = 5, sum will be 15. 1 + 2 + 3 + 4 + 5 = 15"
      ],
      "metadata": {
        "id": "pwHztT9j_xNh"
      }
    },
    {
      "cell_type": "code",
      "execution_count": null,
      "metadata": {
        "colab": {
          "base_uri": "https://localhost:8080/"
        },
        "id": "LKkio50C_jfp",
        "outputId": "d27b3dda-48cb-4982-c139-c97a31be43a6"
      },
      "outputs": [
        {
          "output_type": "stream",
          "name": "stdout",
          "text": [
            "Enter the number of terms (n): 3\n",
            "The sum of the series 1 + 2 + 3 + ... + 3 is: 6\n"
          ]
        }
      ],
      "source": [
        "# Function to calculate the sum of the series\n",
        "def sum_of_series(n):\n",
        "    return n * (n + 1) // 2\n",
        "    '''total = 0\n",
        "    for i in range(1, n + 1):\n",
        "        total += i\n",
        "    return total'''\n",
        "\n",
        "# Taking input from the user\n",
        "try:\n",
        "    n = int(input(\"Enter the number of terms (n): \"))\n",
        "    if n <= 0:\n",
        "        print(\"Please enter a positive integer.\")\n",
        "    else:\n",
        "        result = sum_of_series(n)\n",
        "        print(f\"The sum of the series 1 + 2 + 3 + ... + {n} is: {result}\")\n",
        "except ValueError:\n",
        "    print(\"Invalid input! Please enter a positive integer.\")\n"
      ]
    },
    {
      "cell_type": "markdown",
      "source": [
        "**Check Equal** **Arrays**\n",
        "\n",
        "Given two arrays arr1 and arr2 of equal size, the task is to find whether the given arrays are\n",
        "equal. Two arrays are said to be equal if both contain the same set of elements, arrangements\n",
        "(or permutations) of elements may be different though.\n",
        "Note: If there are repetitions, then counts of repeated elements must also be the same for two\n",
        "arrays to be equal.\n",
        "\n",
        "Examples:\n",
        "\n",
        "Input: arr1[] = [1, 2, 5, 4, 0], arr2[] = [2, 4, 5, 0, 1]\n",
        "Output: true\n",
        "Explanation: Both the array can be rearranged to [0,1,2,4,5]\n",
        "\n",
        "Input: arr1[] = [1, 2, 5], arr2[] = [2, 4, 15]\n",
        "Output: false\n",
        "Explanation: arr1[] and arr2[] have only one common value"
      ],
      "metadata": {
        "id": "yL9a17PwAsQF"
      }
    },
    {
      "cell_type": "code",
      "source": [
        "from collections import Counter\n",
        "\n",
        "def are_arrays_equal(arr1, arr2):\n",
        "    # Use Counter to count the frequency of elements in both arrays\n",
        "    return Counter(arr1) == Counter(arr2)\n",
        "\n",
        "# Taking input from the user\n",
        "try:\n",
        "    arr1 = list(map(int, input(\"Enter the elements of the first array (space-separated): \").split()))\n",
        "    arr2 = list(map(int, input(\"Enter the elements of the second array (space-separated): \").split()))\n",
        "\n",
        "    if len(arr1) != len(arr2):\n",
        "        print(\"The arrays are not equal because they have different sizes.\")\n",
        "    else:\n",
        "        result = are_arrays_equal(arr1, arr2)\n",
        "        print(\"true\" if result else \"false\")\n",
        "\n",
        "except ValueError:\n",
        "    print(\"Invalid input! Please enter integers separated by spaces.\")\n"
      ],
      "metadata": {
        "colab": {
          "base_uri": "https://localhost:8080/"
        },
        "id": "CYHC9YuIA6M5",
        "outputId": "54b855d0-063a-4926-b765-327c68a6171b"
      },
      "execution_count": null,
      "outputs": [
        {
          "output_type": "stream",
          "name": "stdout",
          "text": [
            "Enter the elements of the first array (space-separated): 1 2 5\n",
            "Enter the elements of the second array (space-separated): 2 4 15\n",
            "false\n"
          ]
        }
      ]
    },
    {
      "cell_type": "code",
      "source": [
        "def are_arrays_equal(arr1, arr2):\n",
        "    # Check if the lengths are different\n",
        "    if len(arr1) != len(arr2):\n",
        "        return False\n",
        "\n",
        "    # Create dictionaries to count occurrences of each element\n",
        "    count1 = {}\n",
        "    count2 = {}\n",
        "\n",
        "    # Count occurrences in the first array\n",
        "    for item in arr1:\n",
        "        if item in count1:\n",
        "            count1[item] += 1\n",
        "        else:\n",
        "            count1[item] = 1\n",
        "\n",
        "    # Count occurrences in the second array\n",
        "    for item in arr2:\n",
        "        if item in count2:\n",
        "            count2[item] += 1\n",
        "        else:\n",
        "            count2[item] = 1\n",
        "\n",
        "    # Compare the dictionaries\n",
        "    return count1 == count2\n",
        "\n",
        "# Taking input from the user\n",
        "try:\n",
        "    arr1 = list(map(int, input(\"Enter the elements of the first array (space-separated): \").split()))\n",
        "    arr2 = list(map(int, input(\"Enter the elements of the second array (space-separated): \").split()))\n",
        "\n",
        "    result = are_arrays_equal(arr1, arr2)\n",
        "    print(\"true\" if result else \"false\")\n",
        "\n",
        "except ValueError:\n",
        "    print(\"Invalid input! Please enter integers separated by spaces.\")\n"
      ],
      "metadata": {
        "colab": {
          "base_uri": "https://localhost:8080/"
        },
        "id": "2Y3LvOF3BMGb",
        "outputId": "28c8eff2-a0c5-4d1a-c359-f642fdc591a4"
      },
      "execution_count": null,
      "outputs": [
        {
          "output_type": "stream",
          "name": "stdout",
          "text": [
            "Enter the elements of the first array (space-separated): 1 2 4 5 0\n",
            "Enter the elements of the second array (space-separated): 2 4 5 0 1 2\n",
            "false\n"
          ]
        }
      ]
    },
    {
      "cell_type": "markdown",
      "source": [
        "**Wave** **Array**\n",
        "\n",
        "Given a sorted array arr[] of distinct integers. Sort the array into a wave-like array(In Place).\n",
        "In other words, arrange the elements into a sequence such that\n",
        "\n",
        " arr[1] >= arr[2] <= arr[3] >=\n",
        "arr[4] <= arr[5].....\n",
        "\n",
        "If there are multiple solutions, find the lexicographically smallest one.\n",
        "Note: The given array is sorted in ascending order, and you don't need to return anything to\n",
        "change the original array.\n",
        "\n",
        "Examples:\n",
        "\n",
        "Input: n = 5, arr[] = {1,2,3,4,5}\n",
        "Output: 2 1 4 3 5\n",
        "\n",
        "Explanation: Array elements after sorting it in the waveform are 2 1 4 3 5.\n",
        "\n",
        "Input: n = 6, arr[] = {2,4,7,8,9,10}\n",
        "Output: 4 2 8 7 10 9\n",
        "\n",
        "Explanation: Array elements after sorting it in the waveform are 4 2 8 7 10 9"
      ],
      "metadata": {
        "id": "DZR8_JKKBUBT"
      }
    },
    {
      "cell_type": "code",
      "source": [
        "def wave_array(arr):\n",
        "    # Iterate through the array with a step of 2\n",
        "    for i in range(0, len(arr) - 1, 2):\n",
        "        # Swap the elements at index i and i + 1\n",
        "        arr[i], arr[i + 1] = arr[i + 1], arr[i]\n",
        "\n",
        "# Taking input from the user\n",
        "try:\n",
        "    n = int(input(\"Enter the number of elements in the array (n): \"))\n",
        "    arr = list(map(int, input(\"Enter the elements of the array (space-separated): \").split()))\n",
        "\n",
        "    if len(arr) != n:\n",
        "        print(\"The number of elements does not match the specified size.\")\n",
        "    else:\n",
        "        # Convert the array into a wave-like array\n",
        "        wave_array(arr)\n",
        "        # Print the result\n",
        "        print(\"Array after sorting into wave-like array:\")\n",
        "        print(\" \".join(map(str, arr)))\n",
        "\n",
        "except ValueError:\n",
        "    print(\"Invalid input! Please enter integers separated by spaces.\")\n"
      ],
      "metadata": {
        "colab": {
          "base_uri": "https://localhost:8080/"
        },
        "id": "gBtb4BkZBefb",
        "outputId": "8ff40ed4-99be-4fb8-a2b6-0adfab756828"
      },
      "execution_count": null,
      "outputs": [
        {
          "output_type": "stream",
          "name": "stdout",
          "text": [
            "Enter the number of elements in the array (n): 6\n",
            "Enter the elements of the array (space-separated): 2 4 7 8 9 10\n",
            "Array after sorting into wave-like array:\n",
            "4 2 8 7 10 9\n"
          ]
        }
      ]
    },
    {
      "cell_type": "code",
      "source": [
        "def wave_array(arr):\n",
        "    # Iterate through the array with a step of 2\n",
        "    for i in range(0, len(arr) - 1, 2):\n",
        "        # Swap the elements at index i and i + 1\n",
        "        arr[i], arr[i + 1] = arr[i + 1], arr[i]\n",
        "\n",
        "# Taking input from the user\n",
        "n = int(input(\"Enter the number of elements in the array (n): \"))\n",
        "arr = list(map(int, input(\"Enter the elements of the array (space-separated): \").split()))\n",
        "\n",
        "if len(arr) != n:\n",
        "    print(\"The number of elements does not match the specified size.\")\n",
        "else:\n",
        "    # Convert the array into a wave-like array\n",
        "    wave_array(arr)\n",
        "    # Print the result\n",
        "    print(\"Array after sorting into wave-like array:\")\n",
        "    print(\" \".join(map(str, arr)))"
      ],
      "metadata": {
        "colab": {
          "base_uri": "https://localhost:8080/"
        },
        "id": "IRQFa77ICOzA",
        "outputId": "725e9966-5a1a-43d1-a9c8-6e1dcd484641"
      },
      "execution_count": null,
      "outputs": [
        {
          "output_type": "stream",
          "name": "stdout",
          "text": [
            "Enter the number of elements in the array (n): 5\n",
            "Enter the elements of the array (space-separated): 1 2 3 4 5\n",
            "Array after sorting into wave-like array:\n",
            "2 1 4 3 5\n"
          ]
        }
      ]
    },
    {
      "cell_type": "markdown",
      "source": [
        "**Missing** **number**\n",
        "\n",
        "Ritu has all numbers from 2 to n in an array, arr of length n-1 except one number. You have\n",
        "to return the missing number, Ritu doesn't have from 1 to n.\n",
        "Note: Don't use Sorting\n",
        "\n",
        "Examples:\n",
        "\n",
        "Input: n = 4, arr = [1, 4, 3]\n",
        "Output: 2\n",
        "Explanation: Ritu doesn't have the number 2\n",
        "\n",
        "Input: n = 5, arr = [2, 5, 3, 1]\n",
        "Output: 4\n",
        "Explanation: Ritu doesn't have number 4 in her collection"
      ],
      "metadata": {
        "id": "NT5rrsDOxR5n"
      }
    },
    {
      "cell_type": "code",
      "source": [
        "def find_missing_number(n, arr):\n",
        "    # Calculate the expected sum of numbers from 1 to n\n",
        "    total_sum = n * (n + 1) // 2\n",
        "\n",
        "    # Calculate the sum of elements in the array\n",
        "    actual_sum = sum(arr)\n",
        "\n",
        "    # The missing number is the difference between the expected sum and the actual sum\n",
        "    missing_number = total_sum - actual_sum\n",
        "\n",
        "    return missing_number\n",
        "\n",
        "# Taking input from the user\n",
        "n = int(input(\"Enter the value of n: \"))\n",
        "arr = list(map(int, input(f\"Enter {n-1} elements of the array (space-separated): \").split()))\n",
        "\n",
        "# Ensure the user enters exactly n-1 elements\n",
        "if len(arr) != n - 1:\n",
        "    print(\"The length of the array does not match the expected size.\")\n",
        "else:\n",
        "    # Find and print the missing number\n",
        "    missing_number = find_missing_number(n, arr)\n",
        "    print(f\"The missing number is: {missing_number}\")\n"
      ],
      "metadata": {
        "colab": {
          "base_uri": "https://localhost:8080/"
        },
        "id": "lHgDhgtNyScc",
        "outputId": "68742cba-f37e-45df-b3c0-2443393bb32f"
      },
      "execution_count": 4,
      "outputs": [
        {
          "output_type": "stream",
          "name": "stdout",
          "text": [
            "Enter the value of n: 5\n",
            "Enter 4 elements of the array (space-separated): 4 5 7 2\n",
            "The missing number is: -3\n"
          ]
        }
      ]
    },
    {
      "cell_type": "markdown",
      "source": [
        "**Problem statement-:**\n",
        "\n",
        " Elliot made a KeyLogger for his friend Romero, so that he can see the\n",
        "passwords of his friend. Keylogger is a software that can tell you the buttons pressed in the\n",
        "keyboard without the consent of the user, and hence unethical. Elliot made it to hack\n",
        "Romero’s passwords. The one problem is, Romero writes the passwords in lowercase\n",
        "characters only, and the keylogger only takes the values of the keys. Like, for a it takes 1, for\n",
        "b 2, and for z 26. For a given number Elliot produces all combinations of passwords in a\n",
        "dictionary and starts a dictionary based password attack. For a given number, print all the\n",
        "possible passwords in a lexicographic order.\n",
        "\n",
        "Input Format:\n",
        "• One line, denoting the value given by the keylogger\n",
        "Output Format:\n",
        "• All possible combinations of keyloggers in new lines are lexicographically ordered.\n",
        "Constraints:\n",
        "• 2<=Number of digit in input<=1000\n",
        "Sample Input:\n",
        "1234\n",
        "Sample Output:\n",
        "abcd\n",
        "awd\n",
        "lcd\n",
        "Explanation:\n",
        "For 12, you can take 1,2 that is ab, or you can take l"
      ],
      "metadata": {
        "id": "wAbhsv313RoI"
      }
    },
    {
      "cell_type": "code",
      "source": [
        "def get_characters(digits):\n",
        "    \"\"\"\n",
        "    Given a string of digits, return a list of all possible decoded strings.\n",
        "    \"\"\"\n",
        "    def helper(index, current_combination):\n",
        "        if index == len(digits):\n",
        "            combinations.append(current_combination)\n",
        "            return\n",
        "\n",
        "        # Take one digit\n",
        "        if index < len(digits):\n",
        "            num1 = int(digits[index])\n",
        "            if 1 <= num1 <= 9:\n",
        "                helper(index + 1, current_combination + chr(num1 + ord('a') - 1))\n",
        "\n",
        "        # Take two digits\n",
        "        if index + 1 < len(digits):\n",
        "            num2 = int(digits[index:index + 2])\n",
        "            if 10 <= num2 <= 26:\n",
        "                helper(index + 2, current_combination + chr(num2 + ord('a') - 1))\n",
        "\n",
        "    combinations = []\n",
        "    helper(0, \"\")\n",
        "    combinations.sort()\n",
        "    return combinations\n",
        "\n",
        "# Input\n",
        "input_string = input().strip()\n",
        "\n",
        "# Get all possible combinations\n",
        "result = get_characters(input_string)\n",
        "\n",
        "# Print results\n",
        "for combination in result:\n",
        "    print(combination)\n"
      ],
      "metadata": {
        "id": "05xq9qYn4C3H",
        "outputId": "04b557a5-20a1-4fb1-ea6c-ed3409bb1e7e",
        "colab": {
          "base_uri": "https://localhost:8080/"
        }
      },
      "execution_count": 2,
      "outputs": [
        {
          "output_type": "stream",
          "name": "stdout",
          "text": [
            "1234\n",
            "abcd\n",
            "awd\n",
            "lcd\n"
          ]
        }
      ]
    },
    {
      "cell_type": "code",
      "source": [
        "def digit_to_char(digit_str):\n",
        "    # Map the digits to their corresponding characters\n",
        "    digit = int(digit_str)\n",
        "    return chr(digit + ord('a') - 1)\n",
        "\n",
        "def generate_combinations(digits, current_combination, results):\n",
        "    # If we reach the end of the digits string, add the current combination to results\n",
        "    if not digits:\n",
        "        results.append(current_combination)\n",
        "        return\n",
        "\n",
        "    # Take one digit\n",
        "    if len(digits) >= 1:\n",
        "        generate_combinations(digits[1:], current_combination + digit_to_char(digits[0]), results)\n",
        "\n",
        "    # Take two digits\n",
        "    if len(digits) >= 2 and int(digits[:2]) <= 26:\n",
        "        generate_combinations(digits[2:], current_combination + digit_to_char(digits[:2]), results)\n",
        "\n",
        "# Input\n",
        "input_string = input(\"Enter the digits: \").strip()\n",
        "\n",
        "# Collect results\n",
        "results = []\n",
        "generate_combinations(input_string, \"\", results)\n",
        "\n",
        "# Sort the results lexicographically\n",
        "results.sort()\n",
        "\n",
        "# Print results\n",
        "for combination in results:\n",
        "    print(combination)\n"
      ],
      "metadata": {
        "id": "1CGC3nab6nRc",
        "outputId": "115da700-93d6-409b-8e76-6ebd28260a99",
        "colab": {
          "base_uri": "https://localhost:8080/"
        }
      },
      "execution_count": null,
      "outputs": [
        {
          "output_type": "stream",
          "name": "stdout",
          "text": [
            "Enter the digits: 01234\n",
            "`abcd\n",
            "`awd\n",
            "`lcd\n",
            "abcd\n",
            "awd\n"
          ]
        }
      ]
    }
  ]
}