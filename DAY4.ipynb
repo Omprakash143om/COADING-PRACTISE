{
  "cells": [
    {
      "cell_type": "markdown",
      "metadata": {
        "id": "dFiOnXDZQRYI"
      },
      "source": [
        "**DAY** **4**"
      ]
    },
    {
      "cell_type": "markdown",
      "metadata": {
        "id": "Ok3N36G3QVDK"
      },
      "source": [
        "**Trapping** **Rain** **Water**\n",
        "\n",
        "Given an array arr[] of N non-negative integers representing the height of blocks. If width of each\n",
        "block is 1, compute how much water can be trapped between the blocks during the rainy season.\n",
        "\n",
        "Example 1:\n",
        "\n",
        "Input:\n",
        "N = 6\n",
        "arr[] = {3,0,0,2,0,4}\n",
        "Output:\n",
        "10\n",
        "Explanation:\n",
        "\n",
        "Example 2:\n",
        "\n",
        "Input:\n",
        "N = 4\n",
        "arr[] = {7,4,0,9}\n",
        "Output:\n",
        "10\n",
        "Explanation:\n",
        "Water trapped by above\n",
        "block of height 4 is 3 units and above\n",
        "block of height 0 is 7 units. So, the\n",
        "total unit of water trapped is 10 units.\n",
        "\n",
        "Example 3:\n",
        "\n",
        "Input:\n",
        "N = 3\n",
        "arr[] = {6,9,9}\n",
        "Output:0\n",
        "\n",
        "Explanation:\n",
        "No water will be trapped.\n"
      ]
    },
    {
      "cell_type": "code",
      "execution_count": null,
      "metadata": {
        "colab": {
          "base_uri": "https://localhost:8080/"
        },
        "id": "D9TdAhItQUlO",
        "outputId": "5440d2b9-60fb-4558-a4f1-cbf76656dd17"
      },
      "outputs": [
        {
          "name": "stdout",
          "output_type": "stream",
          "text": [
            "Enter the number of blocks: 4\n",
            "Enter the heights of the 4 blocks separated by spaces: 7 4 0 9\n",
            "10\n"
          ]
        }
      ],
      "source": [
        "def trapping_rain_water(arr):\n",
        "    n = len(arr)\n",
        "    # If the array has less than 3 elements, no water can be trapped\n",
        "    if n < 3:\n",
        "        return 0\n",
        "    # Arrays to store the maximum height to the left and right of each block\n",
        "    left_max = [0] * n\n",
        "    right_max = [0] * n\n",
        "\n",
        "    # Fill left_max array\n",
        "    left_max[0] = arr[0]\n",
        "    for i in range(1, n):\n",
        "        left_max[i] = max(left_max[i-1], arr[i])\n",
        "\n",
        "    # Fill right_max array\n",
        "    right_max[n-1] = arr[n-1]\n",
        "    for i in range(n-2, -1, -1):\n",
        "        right_max[i] = max(right_max[i+1], arr[i])\n",
        "\n",
        "    # Calculate the total water trapped\n",
        "    total_water = 0\n",
        "    for i in range(n):\n",
        "        # Water trapped above the current block\n",
        "        water_at_i = min(left_max[i], right_max[i]) - arr[i]\n",
        "        total_water += water_at_i\n",
        "    return total_water\n",
        "n = int(input(\"Enter the number of blocks: \"))\n",
        "arr = list(map(int, input(f\"Enter the heights of the {n} blocks separated by spaces: \").split()))\n",
        "print(trapping_rain_water(arr))\n"
      ]
    },
    {
      "cell_type": "markdown",
      "metadata": {
        "id": "ikJ9SrDaT4fE"
      },
      "source": [
        "**Product** **array** **puzzle**\n",
        "\n",
        "Given an array nums[] of size n, construct a Product Array P (of same size n) such that P[i] is equal\n",
        "to the product of all the elements of nums except nums[i].\n",
        "Example 1:\n",
        "Input:\n",
        "n = 5\n",
        "nums[] = {10, 3, 5, 6, 2}\n",
        "Output:\n",
        "180 600 360 300 900\n",
        "Explanation:\n",
        "For i=0, P[i] = 3*5*6*2 = 180.\n",
        "For i=1, P[i] = 10*5*6*2 = 600.\n",
        "For i=2, P[i] = 10*3*6*2 = 360.\n",
        "For i=3, P[i] = 10*3*5*2 = 300.\n",
        "For i=4, P[i] = 10*3*5*6 = 900.\n",
        "Example 2:\n",
        "Input:\n",
        "n = 2\n",
        "nums[] = {12,0}\n",
        "Output:\n",
        "0 12"
      ]
    },
    {
      "cell_type": "code",
      "execution_count": null,
      "metadata": {
        "colab": {
          "base_uri": "https://localhost:8080/"
        },
        "id": "vpdJkW_kUcMD",
        "outputId": "1658fe27-16ba-4d6a-d2e6-3a7e0b289666"
      },
      "outputs": [
        {
          "name": "stdout",
          "output_type": "stream",
          "text": [
            "Enter the number of elements: 5\n",
            "Enter the elements separated by spaces: 10 3 5 6 2\n",
            "180 600 360 300 900\n"
          ]
        }
      ],
      "source": [
        "def product_array_puzzle(nums):\n",
        "    n = len(nums)\n",
        "    # Initialize the result array with 1s\n",
        "    result = [1] * n\n",
        "    # Calculate the prefix product\n",
        "    prefix_product = 1\n",
        "    for i in range(n):\n",
        "        result[i] = prefix_product\n",
        "        prefix_product *= nums[i]\n",
        "\n",
        "    # Calculate the suffix product and update the result\n",
        "    suffix_product = 1\n",
        "    for i in range(n-1, -1, -1):\n",
        "        result[i] *= suffix_product\n",
        "        suffix_product *= nums[i]\n",
        "    return result\n",
        "n = int(input(\"Enter the number of elements: \"))\n",
        "nums = list(map(int, input(\"Enter the elements separated by spaces: \").split()))\n",
        "print(*product_array_puzzle(nums))\n"
      ]
    },
    {
      "cell_type": "markdown",
      "metadata": {
        "id": "sbw7ko5JVaQ6"
      },
      "source": [
        "**The** **Celebrity** **Problem**\n",
        "A celebrity is a person who is known to all but does not know anyone at a party. If you go to a party\n",
        "of N people, find if there is a celebrity in the party or not.\n",
        "A square NxN matrix M[][] is used to represent people at the party such that if an element of row i\n",
        "and column j is set to 1 it means ith person knows jth person. Here M[i][i] will always be 0.\n",
        "Return the index of the celebrity, if there is no celebrity return -1.\n",
        "Note: Follow 0 based indexing.\n",
        "Follow Up: Can you optimize it to O(N)\n",
        "\n",
        "Example 1:\n",
        "\n",
        "Input:\n",
        "N = 3\n",
        "M[][] = {{0 1 0},\n",
        " {0 0 0},\n",
        " {0 1 0}}\n",
        "Output: 1\n",
        "Explanation: 0th and 2nd person both\n",
        "know 1. Therefore, 1 is the celebrity.\n",
        "\n",
        "Example 2:\n",
        "\n",
        "Input:\n",
        "N = 2\n",
        "M[][] = {{0 1},\n",
        " {1 0}}\n",
        "Output: -1\n",
        "Explanation: The two people at the party both\n",
        "know each other. None of them is a celebrity."
      ]
    },
    {
      "cell_type": "code",
      "execution_count": null,
      "metadata": {
        "colab": {
          "base_uri": "https://localhost:8080/"
        },
        "id": "oOzJPSe7VhFc",
        "outputId": "507471c5-6deb-4449-bce2-c54b7a4d6558"
      },
      "outputs": [
        {
          "output_type": "stream",
          "name": "stdout",
          "text": [
            "Enter the number of people: 3\n",
            "Enter the matrix row by row:\n",
            "0 1 0\n",
            "0 0 0\n",
            "0 1 0\n",
            "1\n"
          ]
        }
      ],
      "source": [
        "def find_celebrity(M):\n",
        "    N = len(M)\n",
        "\n",
        "    # Step 1: Find the potential celebrity\n",
        "    left = 0\n",
        "    right = N - 1\n",
        "\n",
        "    while left < right:\n",
        "        if M[left][right] == 1:\n",
        "            # left knows right, so left cannot be a celebrity\n",
        "            left += 1\n",
        "        else:\n",
        "            # left does not know right, so right cannot be a celebrity\n",
        "            right -= 1\n",
        "\n",
        "    # Step 2: Verify the potential celebrity\n",
        "    candidate = left\n",
        "\n",
        "    for i in range(N):\n",
        "        if i != candidate:\n",
        "            if M[candidate][i] == 1 or M[i][candidate] == 0:\n",
        "                return -1\n",
        "\n",
        "    return candidate\n",
        "\n",
        "# Input from user\n",
        "N = int(input(\"Enter the number of people: \"))\n",
        "M = []\n",
        "print(\"Enter the matrix row by row:\")\n",
        "for _ in range(N):\n",
        "    row = list(map(int, input().split()))\n",
        "    M.append(row)\n",
        "\n",
        "# Output the result\n",
        "print(find_celebrity(M))\n",
        "\n"
      ]
    },
    {
      "cell_type": "markdown",
      "source": [
        "**Move all zeroes to end** **of** **array**\n",
        "\n",
        "Given an array arr[] of n positive integers. Push all the zeros of the given array to the right end of the\n",
        "array while maintaining the order of non-zero elements. Do the mentioned change in the array inplace.\n",
        "Examples:\n",
        "\n",
        "Input: n = 5, arr[] = {3, 5, 0, 0, 4}\n",
        "Output: 3 5 4 0 0\n",
        "\n",
        "Explanation: The non-zero elements preserve their order while the 0\n",
        "elements are moved to the right.\n",
        "\n",
        "Input: n = 4, arr[] = {0, 0, 0, 4}\n",
        "Output: 4 0 0 0\n",
        "\n",
        "Explanation: 4 is the only non-zero element and it gets moved to the\n",
        "left..\n",
        "\n",
        "Input: n = 3, arr[] = {10, 2, 4}\n",
        "Output: 10 2 4\n",
        "\n",
        "Explanation: Since there are no 0s, the array does not change.\n"
      ],
      "metadata": {
        "id": "ccivqwiiFtBr"
      }
    },
    {
      "cell_type": "code",
      "source": [
        "def move_zeros_to_end(arr):\n",
        "    n = len(arr)\n",
        "    # Initialize the index for non-zero elements\n",
        "    non_zero_index = 0\n",
        "\n",
        "    # Traverse the array\n",
        "    for i in range(n):\n",
        "        if arr[i] != 0:\n",
        "            # Swap elements at non_zero_index and i\n",
        "            arr[non_zero_index], arr[i] = arr[i], arr[non_zero_index]\n",
        "            # Increment the non_zero_index\n",
        "            non_zero_index += 1\n",
        "\n",
        "# Input from user\n",
        "n = int(input(\"Enter the number of elements: \"))\n",
        "arr = list(map(int, input(f\"Enter the {n} elements separated by spaces: \").split()))\n",
        "\n",
        "# Move zeros to the end\n",
        "move_zeros_to_end(arr)\n",
        "\n",
        "# Output the result\n",
        "print(*arr)\n"
      ],
      "metadata": {
        "colab": {
          "base_uri": "https://localhost:8080/"
        },
        "id": "9RY_ryN7GPOl",
        "outputId": "9e2d921a-fd36-4d07-b881-d7d26b7af022"
      },
      "execution_count": null,
      "outputs": [
        {
          "output_type": "stream",
          "name": "stdout",
          "text": [
            "Enter the number of elements: 5\n",
            "Enter the 5 elements separated by spaces: 3 2 0 0 4\n",
            "3 2 4 0 0\n"
          ]
        }
      ]
    },
    {
      "cell_type": "markdown",
      "source": [
        "**Coin** **Change**\n",
        "\n",
        "Given an integer array coins[ ] of size N representing different denominations of currency and an\n",
        "integer sum, find the number of ways you can make sum by using different combinations from coins[\n",
        "].\n",
        "Note: Assume that you have an infinite supply of each type of coin. And you can use any coin as\n",
        "many times as you want.\n",
        "\n",
        "Example 1:\n",
        "\n",
        "Input:\n",
        "N = 3, sum = 4\n",
        "coins = {1,2,3}\n",
        "Output: 4\n",
        "\n",
        "Explanation: Four Possible ways are: {1,1,1,1},{1,1,2},{2,2},{1,3}.\n",
        "\n",
        "Example 2:\n",
        "\n",
        "Input:\n",
        "N = 4, Sum = 10\n",
        "coins = {2,5,3,6}\n",
        "Output: 5\n",
        "\n",
        "Explanation: Five Possible ways are: {2,2,2,2,2}, {2,2,3,3},\n",
        "{2,2,6}, {2,3,5} and {5,5}.\n"
      ],
      "metadata": {
        "id": "SZAKVIytwQSJ"
      }
    },
    {
      "cell_type": "code",
      "source": [
        "def coin_change(coins, sum):\n",
        "    # Initialize the dp array with zeros\n",
        "    dp = [0] * (sum + 1)\n",
        "\n",
        "    # There is one way to make sum 0, which is using no coins\n",
        "    dp[0] = 1\n",
        "\n",
        "    # Fill the dp array\n",
        "    for coin in coins:\n",
        "        for j in range(coin, sum + 1):\n",
        "            dp[j] += dp[j - coin]\n",
        "\n",
        "    # Return the number of ways to make the sum\n",
        "    return dp[sum]\n",
        "\n",
        "# Input from user\n",
        "n = int(input(\"Enter the number of different coins: \"))\n",
        "coins = list(map(int, input(f\"Enter the {n} coin denominations separated by spaces: \").split()))\n",
        "sum = int(input(\"Enter the sum you want to make: \"))\n",
        "\n",
        "# Output the result\n",
        "print(coin_change(coins, sum))\n"
      ],
      "metadata": {
        "colab": {
          "base_uri": "https://localhost:8080/"
        },
        "id": "mz5j7tpSwYke",
        "outputId": "ca79fe98-352b-404a-f42c-d71007227c8f"
      },
      "execution_count": null,
      "outputs": [
        {
          "output_type": "stream",
          "name": "stdout",
          "text": [
            "Enter the number of different coins: 4\n",
            "Enter the 4 coin denominations separated by spaces: 2 5 3 6\n",
            "Enter the sum you want to make: 10\n",
            "5\n"
          ]
        }
      ]
    },
    {
      "cell_type": "code",
      "source": [
        "def count_ways_to_make_sum(coins, total):\n",
        "    # Initialize dp array where dp[i] will store the number of ways to get sum i\n",
        "    dp = [0] * (total + 1)\n",
        "    dp[0] = 1  # There is one way to make sum 0, by choosing no coins\n",
        "\n",
        "    # Iterate over each coin\n",
        "    for coin in coins:\n",
        "        # For each value from coin to total, update the dp array\n",
        "        for i in range(coin, total + 1):\n",
        "            dp[i] += dp[i - coin]\n",
        "\n",
        "    return dp[total]\n",
        "\n",
        "# Input from user\n",
        "n = int(input(\"Enter the number of denominations: \"))\n",
        "coins = list(map(int, input(\"Enter the denominations separated by spaces: \").split()))\n",
        "total = int(input(\"Enter the total sum: \"))\n",
        "\n",
        "# Output the result\n",
        "print(\"Number of ways to make the sum:\", count_ways_to_make_sum(coins, total))\n"
      ],
      "metadata": {
        "colab": {
          "base_uri": "https://localhost:8080/"
        },
        "id": "FJ9ab-rSyyik",
        "outputId": "b717dbea-25b9-4fab-a5c3-df3b889a3102"
      },
      "execution_count": null,
      "outputs": [
        {
          "output_type": "stream",
          "name": "stdout",
          "text": [
            "Enter the number of denominations: 5\n",
            "Enter the denominations separated by spaces: 1 2 4 3 5\n",
            "Enter the total sum: 15\n",
            "Number of ways to make the sum: 84\n"
          ]
        }
      ]
    }
  ],
  "metadata": {
    "colab": {
      "provenance": [],
      "authorship_tag": "ABX9TyMcrvexzCd1mArCYnbnMpCe"
    },
    "kernelspec": {
      "display_name": "Python 3",
      "name": "python3"
    },
    "language_info": {
      "name": "python"
    }
  },
  "nbformat": 4,
  "nbformat_minor": 0
}