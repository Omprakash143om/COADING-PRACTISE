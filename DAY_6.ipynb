{
  "nbformat": 4,
  "nbformat_minor": 0,
  "metadata": {
    "colab": {
      "provenance": [],
      "authorship_tag": "ABX9TyNAWVrU+s1Oi2nem4u9wHYa"
    },
    "kernelspec": {
      "name": "python3",
      "display_name": "Python 3"
    },
    "language_info": {
      "name": "python"
    }
  },
  "cells": [
    {
      "cell_type": "markdown",
      "source": [
        "**DAY** **6**"
      ],
      "metadata": {
        "id": "B_uaQLX36Pq7"
      }
    },
    {
      "cell_type": "markdown",
      "source": [
        "**Fighting** **the** **darkness**\n",
        "\n",
        "Given an array arr[] representing the size of candles which is reduced by 1 unit each day.\n",
        "The room is illuminated using all the the present candles. Find the maximum number of days\n",
        "the room will stay illuminated (at least one candle is having size greater than 0)\n",
        "\n",
        "Examples:\n",
        "\n",
        "Input: arr[] = [1, 1, 2]\n",
        "Output: 2\n",
        "Explanation: The candle's length is reduced by 1 in first day. So, at the end of day 1: Sizes\n",
        "would be [0 0 1], So, at end of second day: Sizes would be [0 0 0]. This means the room was\n",
        "illuminated for 2 days.\n",
        "\n",
        "Input: arr[] = [2, 3, 4, 2, 1]\n",
        "Output: 4"
      ],
      "metadata": {
        "id": "qzxvi-VO6UCV"
      }
    },
    {
      "cell_type": "code",
      "source": [
        "def max_days_illuminated(candles):\n",
        "    # Sort the candles in descending order\n",
        "    candles.sort(reverse=True)\n",
        "\n",
        "    days = 0\n",
        "    while candles and candles[0] > 0:\n",
        "        # The number of days the room will stay illuminated is equal to the number of non-zero candles\n",
        "        days += 1\n",
        "        # Reduce the size of each candle by 1 unit\n",
        "        candles = [c - 1 for c in candles if c > 0]\n",
        "        # Re-sort the candles to maintain the correct order\n",
        "        candles.sort(reverse=True)\n",
        "\n",
        "    return days\n",
        "\n",
        "# Take input from the user\n",
        "input_candles = input(\"Enter the candle sizes separated by spaces: \")\n",
        "candles = list(map(int, input_candles.split()))\n",
        "\n",
        "# Calculate the maximum number of days the room will stay illuminated\n",
        "result = max_days_illuminated(candles)\n",
        "print(\"The room will stay illuminated for\", result, \"days.\")\n"
      ],
      "metadata": {
        "colab": {
          "base_uri": "https://localhost:8080/"
        },
        "id": "GyWvCHbB6fky",
        "outputId": "230a9b12-f747-4f38-d400-5426ab947b93"
      },
      "execution_count": 2,
      "outputs": [
        {
          "output_type": "stream",
          "name": "stdout",
          "text": [
            "Enter the candle sizes separated by spaces: 2 3 4 2 1\n",
            "The room will stay illuminated for 4 days.\n"
          ]
        }
      ]
    },
    {
      "cell_type": "code",
      "source": [
        "def max_days_illuminated(candles):\n",
        "    days = 0\n",
        "    while any(c > 0 for c in candles):\n",
        "        # Increment the number of days\n",
        "        days += 1\n",
        "        # Reduce the size of each candle by 1 unit\n",
        "        candles = [c - 1 for c in candles if c > 0]\n",
        "    return days\n",
        "\n",
        "# Take input from the user\n",
        "input_candles = input(\"Enter the candle sizes separated by spaces: \")\n",
        "candles = list(map(int, input_candles.split()))\n",
        "\n",
        "# Calculate the maximum number of days the room will stay illuminated\n",
        "result = max_days_illuminated(candles)\n",
        "print(\"The room will stay illuminated for\", result, \"days.\")\n"
      ],
      "metadata": {
        "colab": {
          "base_uri": "https://localhost:8080/"
        },
        "id": "fsqCI5hJ7hj_",
        "outputId": "8e2bc630-6897-43d3-a891-c1e3f6dcbbbb"
      },
      "execution_count": 4,
      "outputs": [
        {
          "output_type": "stream",
          "name": "stdout",
          "text": [
            "Enter the candle sizes separated by spaces: 2 3 4 2 1\n",
            "The room will stay illuminated for 4 days.\n"
          ]
        }
      ]
    },
    {
      "cell_type": "markdown",
      "source": [
        "**At** **least two greater elements**\n",
        "\n",
        "Given an array arr of distinct elements, the task is to return an array of all elements except the\n",
        "two greatest elements in sorted order.\n",
        "\n",
        "Examples:\n",
        "\n",
        "Input: arr[] = [2, 8, 7, 1, 5]\n",
        "Output: [1, 2, 5]\n",
        "Explanation: Here we return an array contains 1 , 2, 5 and we leave two greatest elements 5\n",
        "& 7.\n",
        "\n",
        "Input: arr[] = [7, -2, 3, 4, 9, -1]\n",
        "Output: [-2, -1, 3, 4]\n",
        "Explanation: Here we return an array contains -2 , -1, 3, 4 and we leave two greatest\n",
        "elements 7 & 9."
      ],
      "metadata": {
        "id": "6jmnG66I74ze"
      }
    },
    {
      "cell_type": "code",
      "source": [
        "def remove_two_greatest_elements(arr):\n",
        "    # Sort the array\n",
        "    sorted_arr = sorted(arr)\n",
        "    # Remove the last two elements (the two greatest)\n",
        "    return sorted_arr[:-2]\n",
        "\n",
        "# Take input from the user\n",
        "input_arr = input(\"Enter the elements of the array separated by spaces: \")\n",
        "arr = list(map(int, input_arr.split()))\n",
        "\n",
        "# Get the result\n",
        "result = remove_two_greatest_elements(arr)\n",
        "print(\"The array after removing the two greatest elements and sorting is:\", result)\n"
      ],
      "metadata": {
        "colab": {
          "base_uri": "https://localhost:8080/"
        },
        "id": "eXxvk7FB74b0",
        "outputId": "4db1b45c-9347-4b4e-be56-e096fca8bba9"
      },
      "execution_count": 6,
      "outputs": [
        {
          "output_type": "stream",
          "name": "stdout",
          "text": [
            "Enter the elements of the array separated by spaces: 4 2 1 5 2 4 8 9 10 11\n",
            "The array after removing the two greatest elements and sorting is: [1, 2, 2, 4, 4, 5, 8, 9]\n"
          ]
        }
      ]
    },
    {
      "cell_type": "markdown",
      "source": [
        "**Roof** **Top**\n",
        "\n",
        "You are given the heights of consecutive buildings. You can move from the roof of a building\n",
        "to the roof of the next adjacent building. You need to find the maximum number of\n",
        "consecutive steps you can put forward such that you gain an increase in altitude with each\n",
        "step.\n",
        "\n",
        "Examples:\n",
        "\n",
        "Input: arr[] = [1, 2, 2, 3, 2]\n",
        "Output: 1\n",
        "Explanation: 1, 2, or 2, 3 are the only consecutive buildings with increasing heights thus\n",
        "maximum number of consecutive steps with an increase in gain in altitude would be 1 in both\n",
        "cases.\n",
        "\n",
        "Input: arr[] = [1, 2, 3, 4]\n",
        "Output: 3\n",
        "Explanation: 1 to 2 to 3 to 4 is the jump of length 3 to have a maximum number of buildings\n",
        "with increasing heights, so maximum steps with increasing altitude becomes 3.\n"
      ],
      "metadata": {
        "id": "spewOj068XV_"
      }
    },
    {
      "cell_type": "code",
      "source": [
        "def max_increasing_steps(arr):\n",
        "    max_steps = 0\n",
        "    current_steps = 0\n",
        "\n",
        "    for i in range(1, len(arr)):\n",
        "        if arr[i] > arr[i - 1]:\n",
        "            current_steps += 1\n",
        "        else:\n",
        "            max_steps = max(max_steps, current_steps)\n",
        "            current_steps = 0\n",
        "\n",
        "    max_steps = max(max_steps, current_steps)\n",
        "    return max_steps\n",
        "\n",
        "# Take input from the user\n",
        "input_arr = input(\"Enter the heights of consecutive buildings separated by spaces: \")\n",
        "arr = list(map(int, input_arr.split()))\n",
        "\n",
        "# Get the result\n",
        "result = max_increasing_steps(arr)\n",
        "print(\"The maximum number of consecutive steps with increasing altitude is:\", result)\n"
      ],
      "metadata": {
        "colab": {
          "base_uri": "https://localhost:8080/"
        },
        "id": "Wk9jFrdT8enX",
        "outputId": "a3b835a9-b118-485f-8efd-92abc456f23b"
      },
      "execution_count": 7,
      "outputs": [
        {
          "output_type": "stream",
          "name": "stdout",
          "text": [
            "Enter the heights of consecutive buildings separated by spaces: 1 2 3 4\n",
            "The maximum number of consecutive steps with increasing altitude is: 3\n"
          ]
        }
      ]
    },
    {
      "cell_type": "code",
      "source": [
        "def max_increasing_steps(arr):\n",
        "    if not arr:\n",
        "        return 0\n",
        "\n",
        "    max_steps = 0\n",
        "    current_steps = 0\n",
        "\n",
        "    for i in range(1, len(arr)):\n",
        "        if arr[i] > arr[i - 1]:\n",
        "            current_steps += 1\n",
        "        else:\n",
        "            max_steps = max(max_steps, current_steps)\n",
        "            current_steps = 0\n",
        "\n",
        "    # Check the last sequence\n",
        "    max_steps = max(max_steps, current_steps)\n",
        "\n",
        "    return max_steps\n",
        "\n",
        "# Take input from the user\n",
        "input_arr = input(\"Enter the heights of consecutive buildings separated by spaces: \")\n",
        "arr = list(map(int, input_arr.split()))\n",
        "\n",
        "# Get the result\n",
        "result = max_increasing_steps(arr)\n",
        "print(\"The maximum number of consecutive steps with increasing altitude is:\", result)\n"
      ],
      "metadata": {
        "colab": {
          "base_uri": "https://localhost:8080/"
        },
        "id": "GdEyeAPv9Epk",
        "outputId": "1a029130-1b08-45fa-d2f4-872b2c891c78"
      },
      "execution_count": 8,
      "outputs": [
        {
          "output_type": "stream",
          "name": "stdout",
          "text": [
            "Enter the heights of consecutive buildings separated by spaces: 1 2 2 3 2\n",
            "The maximum number of consecutive steps with increasing altitude is: 1\n"
          ]
        }
      ]
    },
    {
      "cell_type": "markdown",
      "source": [
        "**Segregate** **Even** **and** **Odd** **numbers**\n",
        "\n",
        "Given an array arr, write a program segregating even and odd numbers. The program should\n",
        "put all even numbers first in sorted order, and then odd numbers in sorted order.\n",
        "Note:- You don't have to return the array, you have to modify it in-place.\n",
        "\n",
        "Example:\n",
        "\n",
        "Input: arr[] = [12, 34, 45, 9, 8, 90, 3]\n",
        "Output: [8, 12, 34, 90, 3, 9, 45]\n",
        "Explanation: Even numbers are 12, 34, 8 and 90. Rest are odd numbers.\n",
        "\n",
        "Input: arr[] = [0, 1, 2, 3, 4]\n",
        "Output: [0, 2, 4, 1, 3]\n",
        "Explanation: 0 2 4 are even and 1 3 are odd numbers"
      ],
      "metadata": {
        "id": "XWRTXAMF9JQF"
      }
    },
    {
      "cell_type": "code",
      "source": [
        "def segregate_even_odd(arr):\n",
        "    # Separate the even and odd numbers\n",
        "    evens = [num for num in arr if num % 2 == 0]\n",
        "    odds = [num for num in arr if num % 2 != 0]\n",
        "\n",
        "    # Sort the lists\n",
        "    evens.sort()\n",
        "    odds.sort()\n",
        "\n",
        "    # Modify the original array in place\n",
        "    arr[:] = evens + odds\n",
        "\n",
        "# Take input from the user\n",
        "input_arr = input(\"Enter the numbers separated by spaces: \")\n",
        "arr = list(map(int, input_arr.split()))\n",
        "\n",
        "# Perform the segregation\n",
        "segregate_even_odd(arr)\n",
        "print(\"The modified array with even numbers first and odd numbers after, both sorted:\", arr)\n"
      ],
      "metadata": {
        "colab": {
          "base_uri": "https://localhost:8080/"
        },
        "id": "_QrTQBuX9Tnj",
        "outputId": "9345a7d9-9da6-4a04-a386-2e3cc9b115bb"
      },
      "execution_count": 9,
      "outputs": [
        {
          "output_type": "stream",
          "name": "stdout",
          "text": [
            "Enter the numbers separated by spaces: 0 2 4 1 3 20 13\n",
            "The modified array with even numbers first and odd numbers after, both sorted: [0, 2, 4, 20, 1, 3, 13]\n"
          ]
        }
      ]
    },
    {
      "cell_type": "code",
      "source": [
        "def segregate_even_odd(arr):\n",
        "    # Separate the even and odd numbers\n",
        "    evens = sorted([num for num in arr if num % 2 == 0])\n",
        "    odds = sorted([num for num in arr if num % 2 != 0])\n",
        "\n",
        "    # Modify the original array in place\n",
        "    arr[:] = evens + odds\n",
        "\n",
        "# Take input from the user\n",
        "input_arr = input(\"Enter the numbers separated by spaces: \")\n",
        "arr = list(map(int, input_arr.split()))\n",
        "\n",
        "# Perform the segregation\n",
        "segregate_even_odd(arr)\n",
        "print(\"The modified array with even numbers first and odd numbers after, both sorted:\", arr)\n"
      ],
      "metadata": {
        "colab": {
          "base_uri": "https://localhost:8080/"
        },
        "id": "KxM53s7R9s3D",
        "outputId": "242b3f05-98b0-442b-a4f2-d42ca55ab04c"
      },
      "execution_count": 12,
      "outputs": [
        {
          "output_type": "stream",
          "name": "stdout",
          "text": [
            "Enter the numbers separated by spaces: 0 2 5 1 3 8 4 7 90 10\n",
            "The modified array with even numbers first and odd numbers after, both sorted: [0, 2, 4, 8, 10, 90, 1, 3, 5, 7]\n"
          ]
        }
      ]
    },
    {
      "cell_type": "markdown",
      "source": [
        "**Taxi** **Booking**\n",
        "\n",
        "You are going to book a taxi. There are infinite number of points 1, 2, 3... on the X axis and\n",
        "your current position is cur. There are N Taxis near you, and the position of those taxis is\n",
        "given as an array pos. Where pos[i] denotes the position of the ith taxi. You are also given an\n",
        "array time. Where time[i] denotes the time taken by the ith taxi to cover 1 unit of distance.\n",
        "Your task is to find the minimum time to board a taxi.\n",
        "\n",
        "Example 1:\n",
        "\n",
        "Input:\n",
        "N = 3, cur = 4\n",
        "pos = [1, 5, 6]\n",
        "time = [2, 3, 1]\n",
        "Output:\n",
        "2\n",
        "Explanation:\n",
        "Total time taken by the 1st taxi will be: (4-1)*2 = 6\n",
        "Total time taken by the 2nd taxi will be: (5-4)*3 = 3\n",
        "Total time taken by the 3rd taxi will be: (6-4)*1 = 2\n",
        "So, the minimum time will be 2 sec.\n",
        "\n",
        "Example 2:\n",
        "\n",
        "Input:\n",
        "N = 2, cur = 1\n",
        "pos = [1, 6]\n",
        "time = [10, 3]\n",
        "Output:\n",
        "0"
      ],
      "metadata": {
        "id": "o9BmCL2N92bl"
      }
    },
    {
      "cell_type": "code",
      "source": [
        "def minimum_time_to_board(N, cur, pos, time):\n",
        "    # Initialize the minimum time to a large number\n",
        "    min_time = float('inf')\n",
        "\n",
        "    # Iterate through each taxi\n",
        "    for i in range(N):\n",
        "        # Calculate the time taken for this taxi to reach the current position\n",
        "        distance = abs(pos[i] - cur)\n",
        "        time_taken = distance * time[i]\n",
        "\n",
        "        # Update the minimum time\n",
        "        if time_taken < min_time:\n",
        "            min_time = time_taken\n",
        "\n",
        "    return min_time\n",
        "\n",
        "# Take input from the user\n",
        "N = int(input(\"Enter the number of taxis: \"))\n",
        "cur = int(input(\"Enter your current position: \"))\n",
        "pos = list(map(int, input(\"Enter the positions of the taxis separated by spaces: \").split()))\n",
        "time = list(map(int, input(\"Enter the time taken by each taxi to cover 1 unit of distance separated by spaces: \").split()))\n",
        "\n",
        "# Get the minimum time to board a taxi\n",
        "result = minimum_time_to_board(N, cur, pos, time)\n",
        "print(\"The minimum time to board a taxi is:\", result)\n"
      ],
      "metadata": {
        "colab": {
          "base_uri": "https://localhost:8080/"
        },
        "id": "1Pq7GWJk-Knl",
        "outputId": "000c9dc6-3875-417f-bdd4-ea4904b9c96b"
      },
      "execution_count": 13,
      "outputs": [
        {
          "output_type": "stream",
          "name": "stdout",
          "text": [
            "Enter the number of taxis: 2\n",
            "Enter your current position: 1\n",
            "Enter the positions of the taxis separated by spaces: 1 6\n",
            "Enter the time taken by each taxi to cover 1 unit of distance separated by spaces: 10 3\n",
            "The minimum time to board a taxi is: 0\n"
          ]
        }
      ]
    }
  ]
}