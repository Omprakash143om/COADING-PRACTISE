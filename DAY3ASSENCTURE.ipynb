{
  "nbformat": 4,
  "nbformat_minor": 0,
  "metadata": {
    "colab": {
      "provenance": [],
      "authorship_tag": "ABX9TyMIZhoDl0p9u6bEQyabY8db",
      "include_colab_link": true
    },
    "kernelspec": {
      "name": "python3",
      "display_name": "Python 3"
    },
    "language_info": {
      "name": "python"
    }
  },
  "cells": [
    {
      "cell_type": "markdown",
      "metadata": {
        "id": "view-in-github",
        "colab_type": "text"
      },
      "source": [
        "<a href=\"https://colab.research.google.com/github/Omprakash143om/COADING-PRACTISE/blob/PROGRAMS/DAY3ASSENCTURE.ipynb\" target=\"_parent\"><img src=\"https://colab.research.google.com/assets/colab-badge.svg\" alt=\"Open In Colab\"/></a>"
      ]
    },
    {
      "cell_type": "markdown",
      "source": [
        "**DAY3**"
      ],
      "metadata": {
        "id": "BXvgXeMbMrSr"
      }
    },
    {
      "cell_type": "markdown",
      "source": [
        "**Array** **Leaders**\n",
        "Given an array arr of n positive integers, your task is to find all the leaders in the array. An\n",
        "element of the array is considered a leader if it is greater than all the elements on its right side\n",
        "or if it is equal to the maximum element on its right side. The rightmost element is always a\n",
        "leader.\n",
        "\n",
        "Examples\n",
        "Input: n = 6, arr[] = {16,17,4,3,5,2}\n",
        "Output: 17 5 2\n",
        "Explanation: Note that there is nothing greater on the right side of 17, 5 and, 2.\n",
        "\n",
        "Input: n = 5, arr[] = {10,4,2,4,1}\n",
        "Output: 10 4 4 1\n",
        "Explanation: Note that both of the 4s are in output, as to be a leader an equal element is also\n",
        "allowed on the right. side\n",
        "\n",
        "Input: n = 4, arr[] = {5, 10, 20, 40}\n",
        "Output: 40\n",
        "Explanation: When an array is sorted in increasing order, only the rightmost element is\n",
        "leader.\n",
        "\n",
        "Input: n = 4, arr[] = {30, 10, 10, 5}\n",
        "Output: 30 10 10 5\n",
        "Explanation: When an array is sorted in non-increasing order, all elements are leaders."
      ],
      "metadata": {
        "id": "AKzxUKvccheL"
      }
    },
    {
      "cell_type": "code",
      "source": [
        "def find_leaders(arr):\n",
        "  leaders = []\n",
        "  n = len(arr)\n",
        "  max_right = arr[n-1]\n",
        "  leaders.append(max_right)\n",
        "\n",
        "  for i in range(n-2, -1, -1):\n",
        "    if arr[i] >= max_right:\n",
        "      leaders.append(arr[i])\n",
        "      max_right = arr[i]\n",
        "  leaders.reverse()\n",
        "  return leaders # Reverse the list to get the leaders in the original order\n",
        "n = int(input(\"Enter the number of elements in the array: \"))\n",
        "arr = list(map(int, input(\"Enter the elements of the array separated by space: \").split()))\n",
        "result = find_leaders(arr)\n",
        "print(\"The leaders in the array are:\", *result)"
      ],
      "metadata": {
        "colab": {
          "base_uri": "https://localhost:8080/"
        },
        "id": "MIhygc0IAHst",
        "outputId": "81110ea7-8ad5-4daf-adc0-e7844383b243"
      },
      "execution_count": 3,
      "outputs": [
        {
          "output_type": "stream",
          "name": "stdout",
          "text": [
            "Enter the number of elements in the array: 5\n",
            "Enter the elements of the array separated by space: 2 5 1 6 0\n",
            "The leaders in the array are: 6 0\n"
          ]
        }
      ]
    },
    {
      "cell_type": "markdown",
      "source": [
        "**Minimum distance in an** **Array**\n",
        "\n",
        "You are given an array a, of n elements. Find the minimum index based distance between\n",
        "two distinct elements of the array, x and y. Return -1, if either x or y does not exist in the\n",
        "array.\n",
        "Example 1:\n",
        "Input:\n",
        "N = 4\n",
        "A[] = {1,2,3,2}\n",
        "x = 1, y = 2\n",
        "Output: 1\n",
        "Explanation: x = 1 and y = 2. There are\n",
        "two distances between x and y, which are\n",
        "1 and 3 out of which the least is 1.\n",
        "Example 2:\n",
        "Input:\n",
        "N = 7\n",
        "A[] = {86,39,90,67,84,66,62}\n",
        "x = 42, y = 12\n",
        "Output: -1\n",
        "Explanation: x = 42 and y = 12. We return\n",
        "-1 as x and y don't exist in the array."
      ],
      "metadata": {
        "id": "CcnzCsPV7c99"
      }
    },
    {
      "cell_type": "code",
      "source": [
        "def min_distance(arr, x, y):\n",
        "\n",
        "    x_index = -1\n",
        "    y_index = -1\n",
        "    min_dist = float('inf')\n",
        "    # Calculate the minimum distance\n",
        "    for i in range(n):\n",
        "        if arr[i] == x:\n",
        "            x_index = i\n",
        "        if arr[i] == y:\n",
        "            y_index = i\n",
        "        if x_index != -1 and y_index != -1:\n",
        "            dist = abs(x_index - y_index)\n",
        "            if dist < min_dist:\n",
        "                min_dist = dist\n",
        "\n",
        "    # If either x or y is not present, return -1\n",
        "    if x_index == -1 or y_index == -1:\n",
        "        return -1\n",
        "\n",
        "    return min_dist\n",
        "\n",
        "# Input from the user\n",
        "n = int(input(\"Enter the number of elements in the array: \"))\n",
        "arr = list(map(int, input(\"Enter the elements of the array separated by space: \").split()))\n",
        "x = int(input(\"Enter the value of x: \"))\n",
        "y = int(input(\"Enter the value of y: \"))\n",
        "result = min_distance(arr, x, y)\n",
        "print(f\"The minimum distance between {x} and {y} in the array is: {result}\")\n"
      ],
      "metadata": {
        "colab": {
          "base_uri": "https://localhost:8080/"
        },
        "id": "Zpn-Vhm1Dhe6",
        "outputId": "ec392874-bc1a-4232-d22a-395dcc2ab795"
      },
      "execution_count": 11,
      "outputs": [
        {
          "output_type": "stream",
          "name": "stdout",
          "text": [
            "Enter the number of elements in the array: 5\n",
            "Enter the elements of the array separated by space: 2 4 5 1 2\n",
            "Enter the value of x: 2\n",
            "Enter the value of y: 2\n",
            "The minimum distance between 2 and 2 in the array is: 0\n"
          ]
        }
      ]
    },
    {
      "cell_type": "markdown",
      "source": [
        "**Find** **Transition** **Point**\n",
        "\n",
        "Given a sorted array containing only 0s and 1s, find the transition point, i.e., the first\n",
        "index where 1 was observed, and before that, only 0 was observed.\n",
        "Example 1:\n",
        "Input:\n",
        "N = 5\n",
        "arr[] = {0,0,0,1,1}\n",
        "Output: 3\n",
        "Explanation: index 3 is the transition\n",
        "point where 1 begins.\n",
        "Example 2:\n",
        "Input:\n",
        "N = 4\n",
        "arr[] = {0,0,0,0}\n",
        "Output: -1\n",
        "Explanation: Since, there is no \"1\",\n",
        "the answer is -1."
      ],
      "metadata": {
        "id": "Z5ZiRRSzII8a"
      }
    },
    {
      "cell_type": "code",
      "source": [
        "def find_transition_point(arr, n):\n",
        "    low, high = 0, n - 1\n",
        "    if arr[high] == 0:\n",
        "        return -1\n",
        "    while low <= high:\n",
        "        mid = (low + high) // 2\n",
        "        # Check if this is the transition point\n",
        "        if arr[mid] == 1 and (mid == 0 or arr[mid - 1] == 0):\n",
        "            return mid\n",
        "        elif arr[mid] == 0:\n",
        "            low = mid + 1\n",
        "        else:\n",
        "            high = mid - 1\n",
        "    return -1\n",
        "n = int(input(\"Enter the number of elements in the array: \"))\n",
        "arr = list(map(int, input(\"Enter the elements of the array (only 0s and 1s) separated by space: \").split()))\n",
        "# Finding the transition point\n",
        "result = find_transition_point(arr, n)\n",
        "print(f\"The transition point is at index: {result}\")\n"
      ],
      "metadata": {
        "colab": {
          "base_uri": "https://localhost:8080/"
        },
        "id": "92xkRP6SIY3V",
        "outputId": "c722c7d7-6fe7-4cf4-945d-d0eb73b235dd"
      },
      "execution_count": 13,
      "outputs": [
        {
          "output_type": "stream",
          "name": "stdout",
          "text": [
            "Enter the number of elements in the array: 4\n",
            "Enter the elements of the array (only 0s and 1s) separated by space: 0 0 0 0\n",
            "The transition point is at index: -1\n"
          ]
        }
      ]
    },
    {
      "cell_type": "markdown",
      "source": [
        "**Minimum** **Platforms**\n",
        "\n",
        "Given arrival and departure times of all trains that reach a railway station. Find the minimum\n",
        "number of platforms required for the railway station so that no train is kept waiting.\n",
        "Consider that all the trains arrive on the same day and leave on the same day. Arrival and\n",
        "departure time can never be the same for a train but we can have arrival time of one train\n",
        "equal to departure time of the other. At any given instance of time, same platform can not be\n",
        "used for both departure of a train and arrival of another train. In such cases, we need different\n",
        "platforms.\n",
        "Examples:\n",
        "\n",
        "Input: n = 6, arr[] = {0900, 0940, 0950, 1100, 1500, 1800},\n",
        " dep[] = {0910, 1200, 1120, 1130, 1900, 2000}\n",
        "Output: 3\n",
        "\n",
        "Explanation: There are three trains during the time 0940 to 1200. So we need minimum 3\n",
        "platforms.\n",
        "\n",
        "Input: n = 3, arr[] = {0900, 1235, 1100},\n",
        " dep[] = {1000, 1240, 1200}\n",
        "Output: 1\n",
        "\n",
        "Explanation: All train times are mutually exlusive. So we need only one platform\n",
        "\n",
        "Input: n = 3, arr[] = {1000, 0935, 1100},\n",
        " dep[] = {1200, 1240, 1130}\n",
        "Output: 3\n",
        "\n",
        "Explanation: All 3 trains have to be their from 11:00 to 11:30"
      ],
      "metadata": {
        "id": "y8w4WZxNJsIy"
      }
    },
    {
      "cell_type": "code",
      "source": [
        "# Function to find the minimum number of platforms required\n",
        "def find_min_platforms(arr, dep, n):\n",
        "    arr.sort()\n",
        "    dep.sort()\n",
        "\n",
        "    # Initialize variables\n",
        "    platforms_needed = 1\n",
        "    max_platforms = 1\n",
        "    i = 1  # Index for arrival\n",
        "    j = 0  # Index for departure\n",
        "\n",
        "    # Traverse through all events (arrival or departure)\n",
        "    while i < n and j < n:\n",
        "        if arr[i] <= dep[j]:\n",
        "            platforms_needed += 1\n",
        "            i += 1\n",
        "        elif arr[i] > dep[j]:\n",
        "            platforms_needed -= 1\n",
        "            j += 1\n",
        "        max_platforms = max(max_platforms, platforms_needed)\n",
        "    return max_platforms\n",
        "n = int(input(\"Enter the number of trains: \"))\n",
        "arr = list(map(int, input(\"Enter the arrival times of the trains (HHMM) separated by space: \").split()))\n",
        "dep = list(map(int, input(\"Enter the departure times of the trains (HHMM) separated by space: \").split()))\n",
        "result = find_min_platforms(arr, dep, n)\n",
        "print(f\"The minimum number of platforms required is: {result}\")\n"
      ],
      "metadata": {
        "colab": {
          "base_uri": "https://localhost:8080/"
        },
        "id": "BvV-0isdJ8EL",
        "outputId": "65151b3b-01ce-47f9-abdd-f26306b5b746"
      },
      "execution_count": 14,
      "outputs": [
        {
          "output_type": "stream",
          "name": "stdout",
          "text": [
            "Enter the number of trains: 3\n",
            "Enter the arrival times of the trains (HHMM) separated by space: 0900 1235 1100\n",
            "Enter the departure times of the trains (HHMM) separated by space: 1000 1240 1200\n",
            "The minimum number of platforms required is: 1\n"
          ]
        }
      ]
    },
    {
      "cell_type": "markdown",
      "source": [
        "**Fascinating** **Number**\n",
        "\n",
        "Given a number n. Your task is to check whether it is fascinating or not.\n",
        "Fascinating Number: A number with 3 or more digits is considered fascinating if, when it is\n",
        "multiplied by 2 and 3, and the resulting products are concatenated with the original number,\n",
        "the final sequence contains all the digits from 1 to 9 exactly once.\n",
        "Note: If a number is fascinating, return true. Otherwise, return false.\n",
        "Examples:\n",
        "\n",
        "Input: n = 192\n",
        "Output: true\n",
        "\n",
        "Explanation: After multiplication with 2 and 3, and concatenating with original number,\n",
        "number will become 192384576 which contains all digits from 1 to 9.\n",
        "\n",
        "Input: n = 853\n",
        "Output: false\n",
        "\n",
        "Explanation: It is not a fascinating number"
      ],
      "metadata": {
        "id": "aQKch6sYLHE7"
      }
    },
    {
      "cell_type": "code",
      "source": [
        "def is_fascinating(n):\n",
        "    if n < 100:  # A fascinating number must have 3 or more digits\n",
        "        return False\n",
        "    concatenated = str(n) + str(n * 2) + str(n * 3)\n",
        "    # Check if the concatenated string contains all digits from 1 to 9 exactly once\n",
        "    digits = set(concatenated)\n",
        "    return len(concatenated) == 9 and digits == set('123456789')\n",
        "n = int(input(\"Enter the number: \"))\n",
        "result = is_fascinating(n)\n",
        "if result:\n",
        "    print(f\"{n} is a fascinating number.\")\n",
        "else:\n",
        "    print(f\"{n} is not a fascinating number.\")\n"
      ],
      "metadata": {
        "colab": {
          "base_uri": "https://localhost:8080/"
        },
        "id": "XZzrabPBLSBW",
        "outputId": "fc6eacdc-fe65-4974-d379-855ac0d758c0"
      },
      "execution_count": 16,
      "outputs": [
        {
          "output_type": "stream",
          "name": "stdout",
          "text": [
            "Enter the number: 853\n",
            "853 is not a fascinating number.\n"
          ]
        }
      ]
    }
  ]
}