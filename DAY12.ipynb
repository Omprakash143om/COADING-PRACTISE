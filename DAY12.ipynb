{
  "nbformat": 4,
  "nbformat_minor": 0,
  "metadata": {
    "colab": {
      "provenance": [],
      "authorship_tag": "ABX9TyPyqBtzx42TyRtT4a5+3php"
    },
    "kernelspec": {
      "name": "python3",
      "display_name": "Python 3"
    },
    "language_info": {
      "name": "python"
    }
  },
  "cells": [
    {
      "cell_type": "markdown",
      "source": [
        "**DAY** **12**"
      ],
      "metadata": {
        "id": "WpNHLujay9Qu"
      }
    },
    {
      "cell_type": "markdown",
      "source": [
        "**Countries at war**\n",
        "\n",
        "The two countries of A and B are at war against each other. Both countries have N number of\n",
        "soldiers. The power of these soldiers are given by A[i]...A[N] and B[i]....B[N].\n",
        "These soldiers have a peculiarity. They can only attack their counterpart enemies, like A[i]\n",
        "can attack only B[i] and not anyone else. A soldier with higher power can kill the enemy\n",
        "soldier. If both soldiers have the same power, they both die. You need to find the winner\n",
        "country.\n",
        "\n",
        "Example 1:\n",
        "\n",
        "â€‹Input : a[ ] = {2, 2}, b[ ] = {5, 5}\n",
        "\n",
        "Output : B\n",
        "\n",
        "Explanation:\n",
        "Both countries have 2 soldiers.\n",
        "B[0] kills A[0], B[1] kills A[1].\n",
        "A has 0 soldiers alive at the end.\n",
        "B has both soldiers alive at the end.\n",
        "Return \"B\" as a winner.\n",
        "â€‹Example 2:\n",
        "Input : a[ ] = {9}, b[ ] = {8}\n",
        "Output : A\n"
      ],
      "metadata": {
        "id": "gLm6z_clzAkn"
      }
    },
    {
      "cell_type": "code",
      "execution_count": 2,
      "metadata": {
        "id": "3i9_jV68y7Ca",
        "colab": {
          "base_uri": "https://localhost:8080/"
        },
        "outputId": "21df4b23-1bb6-4811-83bf-48139432ce84"
      },
      "outputs": [
        {
          "output_type": "stream",
          "name": "stdout",
          "text": [
            "Enter the powers of country A's soldiers: 2 2\n",
            "Enter the powers of country B's soldiers: 3 3\n",
            "B\n"
          ]
        }
      ],
      "source": [
        "def find_winner(a, b):\n",
        "    a_alive = 0\n",
        "    b_alive = 0\n",
        "\n",
        "    for i in range(len(a)):\n",
        "        if a[i] > b[i]:\n",
        "            a_alive += 1\n",
        "        elif b[i] > a[i]:\n",
        "            b_alive += 1\n",
        "        # If both powers are the same, neither soldier survives\n",
        "\n",
        "    if a_alive > b_alive:\n",
        "        return \"A\"\n",
        "    elif b_alive > a_alive:\n",
        "        return \"B\"\n",
        "    else:\n",
        "        return \"Draw\"\n",
        "\n",
        "# Example usage\n",
        "a = list(map(int, input(\"Enter the powers of country A's soldiers: \").split()))\n",
        "b = list(map(int, input(\"Enter the powers of country B's soldiers: \").split()))\n",
        "\n",
        "print(find_winner(a, b))\n"
      ]
    },
    {
      "cell_type": "code",
      "source": [
        "# Input for soldiers' powers\n",
        "a = list(map(int, input(\"Enter the powers of country A's soldiers: \").split()))\n",
        "b = list(map(int, input(\"Enter the powers of country B's soldiers: \").split()))\n",
        "\n",
        "# Initialize counters for alive soldiers\n",
        "a_alive = 0\n",
        "b_alive = 0\n",
        "\n",
        "# Loop through each soldier and compare their powers\n",
        "for i in range(len(a)):\n",
        "    if a[i] > b[i]:\n",
        "        a_alive += 1\n",
        "    elif b[i] > a[i]:\n",
        "        b_alive += 1\n",
        "    # If both powers are the same, neither soldier survives\n",
        "\n",
        "# Determine the winner\n",
        "if a_alive > b_alive:\n",
        "    print(\"A\")\n",
        "elif b_alive > a_alive:\n",
        "    print(\"B\")\n",
        "else:\n",
        "    print(\"Draw\")\n"
      ],
      "metadata": {
        "colab": {
          "base_uri": "https://localhost:8080/"
        },
        "id": "4ObSeW6G5jhT",
        "outputId": "a98ceb11-a761-46e9-f261-03fffba23123"
      },
      "execution_count": 3,
      "outputs": [
        {
          "output_type": "stream",
          "name": "stdout",
          "text": [
            "Enter the powers of country A's soldiers: 2 0 2 2\n",
            "Enter the powers of country B's soldiers: 1 0 0 6\n",
            "A\n"
          ]
        }
      ]
    },
    {
      "cell_type": "markdown",
      "source": [
        "**Tywin's War Strategy**\n",
        "\n",
        "Tywin Lannister is facing a war. He has N troops of soldiers. Each troop has a certain number\n",
        "of soldiers denoted by an array A.\n",
        "Tywin thinks that a troop is lucky if it has a number of soldiers as a multiple of K. He doesn't\n",
        "want to lose any soldiers, so he decides to train some more\n",
        "He will win the war if he has at least half of his troops are lucky troops.\n",
        "Determine the minimum number of soldiers he must train to win the war.\n",
        "\n",
        "Example 1:\n",
        "\n",
        "Input : arr[ ] = {5, 6, 3, 2, 1} and K = 2\n",
        "\n",
        "Output : 1\n",
        "\n",
        "Explanation:\n",
        "Troop with 1 soldier is increased to 2.\n",
        "Example 2:\n",
        "Input : arr[ ] = {2, 3, 4, 9, 8, 7} and K = 4\n",
        "Output : 1\n",
        "Explanation:\n",
        "Troop with 3 soldier is increased to 4."
      ],
      "metadata": {
        "id": "HhiuWMq36Dw7"
      }
    },
    {
      "cell_type": "code",
      "source": [
        "# Input: Array of troop sizes and the value of K\n",
        "arr = list(map(int, input(\"Enter the number of soldiers in each troop: \").split()))\n",
        "K = int(input(\"Enter the value of K: \"))\n",
        "\n",
        "# Step 1: Count how many troops are already lucky\n",
        "lucky_count = sum(1 for x in arr if x % K == 0)\n",
        "\n",
        "# Step 2: Calculate the required number of lucky troops\n",
        "required_lucky = (len(arr) + 1) // 2\n",
        "\n",
        "# If we already have enough lucky troops, no training is needed\n",
        "if lucky_count >= required_lucky:\n",
        "    print(0)\n",
        "else:\n",
        "    # Step 3: Calculate the minimum number of soldiers needed to make enough troops lucky\n",
        "    troops_to_train = []\n",
        "\n",
        "    for soldiers in arr:\n",
        "        if soldiers % K != 0:\n",
        "            # Calculate how many soldiers need to be added to make this troop lucky\n",
        "            troops_to_train.append(K - (soldiers % K))\n",
        "\n",
        "    # Sort the troops to train by the minimum number of soldiers needed\n",
        "    troops_to_train.sort()\n",
        "\n",
        "    # Step 4: Train the required number of troops to make them lucky\n",
        "    additional_soldiers = sum(troops_to_train[:required_lucky - lucky_count])\n",
        "\n",
        "    print(additional_soldiers)\n"
      ],
      "metadata": {
        "colab": {
          "base_uri": "https://localhost:8080/"
        },
        "id": "F6FjNX2k6R1I",
        "outputId": "e1e69211-fbdd-43a7-a241-1dc1ad927355"
      },
      "execution_count": 5,
      "outputs": [
        {
          "output_type": "stream",
          "name": "stdout",
          "text": [
            "Enter the number of soldiers in each troop: 2 3 5 6 7\n",
            "Enter the value of K: 2\n",
            "1\n"
          ]
        }
      ]
    },
    {
      "cell_type": "code",
      "source": [
        "def min_soldiers_to_train(arr, K):\n",
        "    lucky_count = sum(1 for x in arr if x % K == 0)\n",
        "    required_lucky = (len(arr) + 1) // 2\n",
        "\n",
        "    if lucky_count >= required_lucky:\n",
        "        return 0\n",
        "\n",
        "    troops_to_train = sorted(K - (x % K) for x in arr if x % K != 0)\n",
        "    return sum(troops_to_train[:required_lucky - lucky_count])\n",
        "\n",
        "# Example usage\n",
        "arr = list(map(int, input(\"Enter the number of soldiers in each troop: \").split()))\n",
        "K = int(input(\"Enter the value of K: \"))\n",
        "\n",
        "print(min_soldiers_to_train(arr, K))\n"
      ],
      "metadata": {
        "colab": {
          "base_uri": "https://localhost:8080/"
        },
        "id": "a8FhmqMY7rnK",
        "outputId": "e7c0d5bf-f89b-453e-a9b5-05f2bba25e38"
      },
      "execution_count": 6,
      "outputs": [
        {
          "output_type": "stream",
          "name": "stdout",
          "text": [
            "Enter the number of soldiers in each troop: 2 3 4 9 8 7\n",
            "Enter the value of K: 4\n",
            "1\n"
          ]
        }
      ]
    },
    {
      "cell_type": "markdown",
      "source": [
        "**A guy with a mental problem**\n",
        "\n",
        "A guy has to reach his home and does not want to be late. He takes train to reach home. He\n",
        "has a mental illness, so he always switches train at every station.\n",
        "For eg: If he starts with train A then at station 2 he will switch his train to train B and so on.\n",
        "Similarly, if he starts with train B then he will switch to train A at station 2 and so on. Please\n",
        "help him to find the minimum total time he would take to reach his home.\n",
        "\n",
        "Example 1:\n",
        "\n",
        "Input:\n",
        "\n",
        "N = 3\n",
        "\n",
        "A[] = {2, 1, 2}\n",
        "\n",
        "B[] = {3, 2, 1}\n",
        "\n",
        "Output:\n",
        "5\n",
        "\n",
        "Explanation:\n",
        "If he chose train A initially, then time to\n",
        "reach home will be : 2 + 2 + 2 = 6\n",
        "If he Chose train B initially, then time to\n",
        "reach home will be : 3 + 1 + 1 = 5\n",
        "5 is minimum hence the answer."
      ],
      "metadata": {
        "id": "uW5l_TRP8rtd"
      }
    },
    {
      "cell_type": "code",
      "source": [
        "def min_time_to_reach_home(N, A, B):\n",
        "    # Initialize cumulative times\n",
        "    time_with_A = A[0]\n",
        "    time_with_B = B[0]\n",
        "\n",
        "    # Traverse through the remaining stations\n",
        "    for i in range(1, N):\n",
        "        # Calculate the new times by considering switching at each station\n",
        "        new_time_with_A = min(time_with_A + A[i], time_with_B + A[i])\n",
        "        new_time_with_B = min(time_with_B + B[i], time_with_A + B[i])\n",
        "\n",
        "        # Update the times\n",
        "        time_with_A = new_time_with_A\n",
        "        time_with_B = new_time_with_B\n",
        "\n",
        "    # Return the minimum of the two possible times\n",
        "    return min(time_with_A, time_with_B)\n",
        "\n",
        "# Taking input from the user\n",
        "N = int(input(\"Enter the number of stations: \"))\n",
        "A = list(map(int, input(\"Enter the time taken by train A at each station (space-separated): \").split()))\n",
        "B = list(map(int, input(\"Enter the time taken by train B at each station (space-separated): \").split()))\n",
        "\n",
        "# Calculating the minimum time\n",
        "result = min_time_to_reach_home(N, A, B)\n",
        "\n",
        "# Output the result\n",
        "print(\"Minimum time to reach home:\", result)\n"
      ],
      "metadata": {
        "colab": {
          "base_uri": "https://localhost:8080/"
        },
        "id": "3otjSrsJ80Sr",
        "outputId": "38acaf67-5a5e-4f7e-cffc-e4d10612222d"
      },
      "execution_count": 13,
      "outputs": [
        {
          "output_type": "stream",
          "name": "stdout",
          "text": [
            "Enter the number of stations: 3\n",
            "Enter the time taken by train A at each station (space-separated): 2 1 2\n",
            "Enter the time taken by train B at each station (space-separated): 3 2 1\n",
            "Minimum time to reach home: 4\n"
          ]
        }
      ]
    },
    {
      "cell_type": "code",
      "source": [
        "# Taking input from the user\n",
        "N = int(input(\"Enter the number of stations: \"))\n",
        "A = list(map(int, input(\"Enter the time taken by train A at each station (space-separated): \").split()))\n",
        "B = list(map(int, input(\"Enter the time taken by train B at each station (space-separated): \").split()))\n",
        "\n",
        "# Initialize cumulative times\n",
        "time_with_A = A[0]\n",
        "time_with_B = B[0]\n",
        "\n",
        "# Traverse through the remaining stations\n",
        "for i in range(1, N):\n",
        "    # Calculate the new times by considering switching at each station\n",
        "    new_time_with_A = min(time_with_A + A[i], time_with_B + A[i])\n",
        "    new_time_with_B = min(time_with_B + B[i], time_with_A + B[i])\n",
        "\n",
        "    # Update the times\n",
        "    time_with_A = new_time_with_A\n",
        "    time_with_B = new_time_with_B\n",
        "\n",
        "# Calculate and print the minimum time to reach home\n",
        "result = min(time_with_A, time_with_B)\n",
        "print(\"Minimum time to reach home:\", result)\n"
      ],
      "metadata": {
        "colab": {
          "base_uri": "https://localhost:8080/"
        },
        "id": "hGxNUYTT-pVH",
        "outputId": "196b10c8-98e0-4e1f-ca1a-9da731e847b5"
      },
      "execution_count": 14,
      "outputs": [
        {
          "output_type": "stream",
          "name": "stdout",
          "text": [
            "Enter the number of stations: 3\n",
            "Enter the time taken by train A at each station (space-separated): 2 1 2\n",
            "Enter the time taken by train B at each station (space-separated): 3 2 1\n",
            "Minimum time to reach home: 4\n"
          ]
        }
      ]
    },
    {
      "cell_type": "markdown",
      "source": [
        "**Drive the car**\n",
        "Suppose you are a car driver and you have to drive a car on a track divided into \"N\" number\n",
        "of sub-tracks. You are also given the value of \"K\" i.e. the total kilometers the car can drive\n",
        "on each sub-track. If the car can't cover a sub-track, you can add any unit of Petrol to it. With\n",
        "each unit of petrol added, the total kilometers your car can travel will increase by one unit.\n",
        "You have to return the minimum unit of Petrol that if added to your car at each sub-tracks\n",
        "your car will be able to cover all the sub-tracks. If no extra unit of petrol is required, return -\n",
        "1.\n",
        "\n",
        "Example 1:\n",
        "\n",
        "Input:\n",
        "\n",
        "N = 5, K = 7\n",
        "\n",
        "arr[] = {2, 5, 4, 5, 2}\n",
        "\n",
        "Output:\n",
        "-1\n",
        "\n",
        "Explanation:\n",
        "No extra petrol required, as K is greater\n",
        "than all the elemnts in the array hence -1.\n",
        "Example 2:\n",
        "Input:\n",
        "N = 5, K = 4\n",
        "arr[] = {1, 6, 3, 5, 2}\n",
        "Output:\n",
        "2\n",
        "Explanation:\n",
        "You are given 5 sub-tracks with different\n",
        "kilometers. Your car can travel 4 km on\n",
        "each sub-track. So, when you come on\n",
        "sub-track 2nd you have to cover 6 km of\n",
        "distance, so you need to have 2 unit of\n",
        "petrol more to cover the distance, for\n",
        "3rd sub-track, your car can travel 4km\n",
        "and you need extra 1 unit of pertrol.So\n",
        "if you add 2 units of petrol at each sub-track\n",
        "you can cover all the subtracks"
      ],
      "metadata": {
        "id": "tkOtNDgn-8Ra"
      }
    },
    {
      "cell_type": "code",
      "source": [
        "# Taking input from the user\n",
        "N = int(input(\"Enter the number of sub-tracks: \"))\n",
        "K = int(input(\"Enter the total kilometers the car can drive on each sub-track: \"))\n",
        "arr = list(map(int, input(\"Enter the distance of each sub-track (space-separated): \").split()))\n",
        "\n",
        "# Initialize the maximum extra petrol needed to 0\n",
        "max_extra_petrol = 0\n",
        "\n",
        "# Traverse through each sub-track\n",
        "for distance in arr:\n",
        "    if distance > K:\n",
        "        # Calculate extra petrol needed for this sub-track\n",
        "        extra_petrol = distance - K\n",
        "        # Update the maximum extra petrol needed\n",
        "        max_extra_petrol = max(max_extra_petrol, extra_petrol)\n",
        "\n",
        "# Output the result\n",
        "if max_extra_petrol == 0:\n",
        "    print(-1)\n",
        "else:\n",
        "    print(max_extra_petrol)\n"
      ],
      "metadata": {
        "colab": {
          "base_uri": "https://localhost:8080/"
        },
        "id": "wAvj4Qyt_JnC",
        "outputId": "f364c5c9-d95d-4696-9fb5-3e9d6076ea02"
      },
      "execution_count": 15,
      "outputs": [
        {
          "output_type": "stream",
          "name": "stdout",
          "text": [
            "Enter the number of sub-tracks: 5\n",
            "Enter the total kilometers the car can drive on each sub-track: 7\n",
            "Enter the distance of each sub-track (space-separated): 2 5 4 5 2\n",
            "-1\n"
          ]
        }
      ]
    },
    {
      "cell_type": "code",
      "source": [
        "def calculate_extra_petrol(N, K, arr):\n",
        "    # Initialize the maximum extra petrol needed to 0\n",
        "    max_extra_petrol = 0\n",
        "\n",
        "    # Traverse through each sub-track\n",
        "    for distance in arr:\n",
        "        if distance > K:\n",
        "            # Calculate extra petrol needed for this sub-track\n",
        "            extra_petrol = distance - K\n",
        "            # Update the maximum extra petrol needed\n",
        "            max_extra_petrol = max(max_extra_petrol, extra_petrol)\n",
        "\n",
        "    # Return -1 if no extra petrol is needed, otherwise return the maximum extra petrol\n",
        "    return -1 if max_extra_petrol == 0 else max_extra_petrol\n",
        "\n",
        "# Taking input from the user\n",
        "N = int(input(\"Enter the number of sub-tracks: \"))\n",
        "K = int(input(\"Enter the total kilometers the car can drive on each sub-track: \"))\n",
        "arr = list(map(int, input(\"Enter the distance of each sub-track (space-separated): \").split()))\n",
        "\n",
        "# Calculating the minimum unit of petrol needed\n",
        "result = calculate_extra_petrol(N, K, arr)\n",
        "\n",
        "# Output the result\n",
        "print(\"Minimum unit of petrol needed:\", result)\n"
      ],
      "metadata": {
        "colab": {
          "base_uri": "https://localhost:8080/"
        },
        "id": "nxvzt0Nw_P9q",
        "outputId": "e98294db-117f-4078-eb84-99532ec8e842"
      },
      "execution_count": 16,
      "outputs": [
        {
          "output_type": "stream",
          "name": "stdout",
          "text": [
            "Enter the number of sub-tracks: 5\n",
            "Enter the total kilometers the car can drive on each sub-track: 7\n",
            "Enter the distance of each sub-track (space-separated): 2 5 4 5 2\n",
            "Minimum unit of petrol needed: -1\n"
          ]
        }
      ]
    },
    {
      "cell_type": "markdown",
      "source": [
        "**King's War**\n",
        "King is getting ready for a war. He know his strengths and weeknesses so he is taking\n",
        "required number of soldiers with him. King can only defeat enemies with strongest and\n",
        "weakest power, and one soldier can only kill one enemy. Your task is to calculate that how\n",
        "many soldiers are required by king to take with him for the war.\n",
        "Note: The array may contain duplicates.\n",
        "\n",
        "Example 1:\n",
        "\n",
        "Input:\n",
        "\n",
        "N = 2\n",
        "\n",
        "A[] = {1, 5}\n",
        "\n",
        "Output:\n",
        "0\n",
        "\n",
        "Explanatation:\n",
        "The king will itself be able to defeat all the enemies.\n",
        "Example 2:\n",
        "Input:\n",
        "N = 3\n",
        "A[] = {1, 2, 5}\n",
        "Output:\n",
        "1\n",
        "Explanatation:\n",
        "The king will defeat enemies with power\n",
        "1 and 5, and he will need 1 soldier to\n",
        "defeat the enemy with power 2"
      ],
      "metadata": {
        "id": "vt7XDFNi_VDW"
      }
    },
    {
      "cell_type": "code",
      "source": [
        "def required_soldiers(N, A):\n",
        "    # Edge case for no enemies\n",
        "    if N == 0:\n",
        "        return 0\n",
        "\n",
        "    # Find the maximum and minimum power in the array\n",
        "    max_power = max(A)\n",
        "    min_power = min(A)\n",
        "\n",
        "    # Count the number of enemies that the King can't defeat\n",
        "    count = 0\n",
        "    for power in A:\n",
        "        if power != max_power and power != min_power:\n",
        "            count += 1\n",
        "\n",
        "    return count\n",
        "\n",
        "# Taking input from the user\n",
        "N = int(input(\"Enter the number of enemies: \"))\n",
        "A = list(map(int, input(\"Enter the power of each enemy (space-separated): \").split()))\n",
        "\n",
        "# Calculating the number of additional soldiers required\n",
        "result = required_soldiers(N, A)\n",
        "\n",
        "# Output the result\n",
        "print(\"Number of additional soldiers required:\", result)\n"
      ],
      "metadata": {
        "colab": {
          "base_uri": "https://localhost:8080/"
        },
        "id": "PwfMDjwm_iWm",
        "outputId": "880555e3-aca7-4d50-bd12-f25002cc62d7"
      },
      "execution_count": 17,
      "outputs": [
        {
          "output_type": "stream",
          "name": "stdout",
          "text": [
            "Enter the number of enemies: 2\n",
            "Enter the power of each enemy (space-separated): 1 5\n",
            "Number of additional soldiers required: 0\n"
          ]
        }
      ]
    },
    {
      "cell_type": "code",
      "source": [
        "# Taking input from the user\n",
        "N = int(input(\"Enter the number of enemies: \"))\n",
        "A = list(map(int, input(\"Enter the power of each enemy (space-separated): \").split()))\n",
        "\n",
        "# Edge case for no enemies\n",
        "if N == 0:\n",
        "    print(0)\n",
        "else:\n",
        "    # Find the maximum and minimum power in the array\n",
        "    max_power = max(A)\n",
        "    min_power = min(A)\n",
        "\n",
        "    # Count the number of enemies that the King can't defeat\n",
        "    count = 0\n",
        "    for power in A:\n",
        "        if power != max_power and power != min_power:\n",
        "            count += 1\n",
        "\n",
        "    # Output the number of additional soldiers required\n",
        "    print(\"Number of additional soldiers required:\", count)\n"
      ],
      "metadata": {
        "colab": {
          "base_uri": "https://localhost:8080/"
        },
        "id": "KOVkgPgs_p9K",
        "outputId": "5048c60c-4587-4c89-9990-f55716e86f13"
      },
      "execution_count": 18,
      "outputs": [
        {
          "output_type": "stream",
          "name": "stdout",
          "text": [
            "Enter the number of enemies: 3\n",
            "Enter the power of each enemy (space-separated): 1 2 5\n",
            "Number of additional soldiers required: 1\n"
          ]
        }
      ]
    }
  ]
}