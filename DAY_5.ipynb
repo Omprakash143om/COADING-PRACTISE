{
  "nbformat": 4,
  "nbformat_minor": 0,
  "metadata": {
    "colab": {
      "provenance": [],
      "authorship_tag": "ABX9TyPy0uHXaWCEsP9XeGPEbQ3Y"
    },
    "kernelspec": {
      "name": "python3",
      "display_name": "Python 3"
    },
    "language_info": {
      "name": "python"
    }
  },
  "cells": [
    {
      "cell_type": "markdown",
      "source": [
        "**DAY** **5**"
      ],
      "metadata": {
        "id": "m9a0lEZO52_W"
      }
    },
    {
      "cell_type": "markdown",
      "source": [
        "**Implement** **strstr**\n",
        "\n",
        "Your task is to implement the function strstr. The function takes two strings\n",
        "as arguments (s,x) and locates the occurrence of the string x in the string s. The function returns an\n",
        "integer denoting the first occurrence of the string x in s (0 based indexing).\n",
        "Note: You are not allowed to use inbuilt function.\n",
        "\n",
        "Example 1:\n",
        "\n",
        "Input:\n",
        "s = GeeksForGeeks, x = Fr\n",
        "Output: -1\n",
        "Explanation: Fr is not present in the\n",
        "string GeeksForGeeks as substring.\n",
        "\n",
        "Example 2:\n",
        "\n",
        "Input:\n",
        "s = GeeksForGeeks, x = For\n",
        "Output: 5\n",
        "Explanation: For is present as substring\n",
        "in GeeksForGeeks from index 5 (0 based\n",
        "indexing).\n"
      ],
      "metadata": {
        "id": "mUghi_mbzXzC"
      }
    },
    {
      "cell_type": "code",
      "source": [
        "def strstr(s, x):\n",
        "    m, n = len(s), len(x)\n",
        "\n",
        "    # Iterate through the main string `s`\n",
        "    for i in range(m - n + 1):\n",
        "        # Check if the substring `x` matches the current slice of `s`\n",
        "        if s[i:i + n] == x:\n",
        "            return i\n",
        "\n",
        "    # Return -1 if `x` is not found in `s`\n",
        "    return -1\n",
        "\n",
        "# Take input from the user\n",
        "s = input(\"Enter the main string (s): \")\n",
        "x = input(\"Enter the substring to find (x): \")\n",
        "\n",
        "# Call the function and print the result\n",
        "result = strstr(s, x)\n",
        "print(f\"The first occurrence of '{x}' in '{s}' is at index: {result}\")\n"
      ],
      "metadata": {
        "colab": {
          "base_uri": "https://localhost:8080/"
        },
        "id": "5bG3VjHi0nfS",
        "outputId": "fb1b28e6-9af8-457e-c093-a1fdb0511f1b"
      },
      "execution_count": null,
      "outputs": [
        {
          "output_type": "stream",
          "name": "stdout",
          "text": [
            "Enter the main string (s): GeeksForGeeks\n",
            "Enter the substring to find (x): Fr\n",
            "The first occurrence of 'Fr' in 'GeeksForGeeks' is at index: -1\n"
          ]
        }
      ]
    },
    {
      "cell_type": "code",
      "source": [
        "def strstr(s, x):\n",
        "    # Get the lengths of the main string `s` and substring `x`\n",
        "    m = len(s)\n",
        "    n = len(x)\n",
        "\n",
        "    # Loop through the main string `s`\n",
        "    for i in range(m - n + 1):\n",
        "        # Check if the substring `x` matches starting from index `i`\n",
        "        match_found = True\n",
        "        for j in range(n):\n",
        "            if s[i + j] != x[j]:\n",
        "                match_found = False\n",
        "                break\n",
        "        if match_found:\n",
        "            return i\n",
        "\n",
        "    # If no match is found, return -1\n",
        "    return -1\n",
        "\n",
        "# Take input from the user\n",
        "s = input(\"Enter the main string (s): \")\n",
        "x = input(\"Enter the substring to find (x): \")\n",
        "\n",
        "# Call the function and print the result\n",
        "result = strstr(s, x)\n",
        "print(f\"The first occurrence of '{x}' in '{s}' is at index: {result}\")\n"
      ],
      "metadata": {
        "colab": {
          "base_uri": "https://localhost:8080/"
        },
        "id": "pym21-FC00VC",
        "outputId": "b6399aca-d227-40bf-e8a3-1775ea100d24"
      },
      "execution_count": null,
      "outputs": [
        {
          "output_type": "stream",
          "name": "stdout",
          "text": [
            "Enter the main string (s): GeeksForGeeks\n",
            "Enter the substring to find (x): For\n",
            "The first occurrence of 'For' in 'GeeksForGeeks' is at index: 5\n"
          ]
        }
      ]
    },
    {
      "cell_type": "markdown",
      "source": [
        "**Uncommon** **characters**\n",
        "\n",
        "Given two strings A and B consisting of lowercase english characters. Find the characters that are not\n",
        "common in the two strings.\n",
        "Note :- Return the string in sorted order.\n",
        "\n",
        "Example 1:\n",
        "\n",
        "Input:\n",
        "A = geeksforgeeks\n",
        "B = geeksquiz\n",
        "Output: fioqruz\n",
        "\n",
        "Explanation:\n",
        "The characters 'f', 'i', 'o', 'q', 'r', 'u','z'\n",
        "are either present in A or B, but not in both.\n",
        "\n",
        "Example 2:\n",
        "\n",
        "Input:\n",
        "A = characters\n",
        "B = alphabets\n",
        "Output: bclpr\n",
        "\n",
        "Explanation: The characters 'b','c','l','p','r'\n",
        "are either present in A or B, but not in both."
      ],
      "metadata": {
        "id": "ZJL2meDLzgSw"
      }
    },
    {
      "cell_type": "code",
      "source": [
        "def uncommon_characters(A, B):\n",
        "    # Convert strings to sets\n",
        "    set_A = set(A)\n",
        "    set_B = set(B)\n",
        "\n",
        "    # Find characters in A but not in B\n",
        "    unique_in_A = set_A - set_B\n",
        "\n",
        "    # Find characters in B but not in A\n",
        "    unique_in_B = set_B - set_A\n",
        "\n",
        "    # Combine the unique characters\n",
        "    uncommon_chars = unique_in_A.union(unique_in_B)\n",
        "\n",
        "    # Sort the characters and return as a string\n",
        "    return ''.join(sorted(uncommon_chars))\n",
        "\n",
        "# Take input from the user\n",
        "A = input(\"Enter the first string (A): \")\n",
        "B = input(\"Enter the second string (B): \")\n",
        "\n",
        "# Call the function and print the result\n",
        "result = uncommon_characters(A, B)\n",
        "print(f\"The uncommon characters between '{A}' and '{B}' are: {result}\")\n"
      ],
      "metadata": {
        "colab": {
          "base_uri": "https://localhost:8080/"
        },
        "id": "cGlpFVq12KMK",
        "outputId": "c65087b2-9a9f-4a0c-da68-b292479f3831"
      },
      "execution_count": null,
      "outputs": [
        {
          "output_type": "stream",
          "name": "stdout",
          "text": [
            "Enter the first string (A): characTers\n",
            "Enter the second string (B): AlphabetS\n",
            "The uncommon characters between 'characTers' and 'AlphabetS' are: ASTbclprst\n"
          ]
        }
      ]
    },
    {
      "cell_type": "markdown",
      "source": [
        "**Remove** **Consecutive** **Characters**\n",
        "\n",
        "Given a string S. For each index i(1<=i<=N-1), erase it if s[i] is equal to s[i-1] in the string.\n",
        "\n",
        "Example 1:\n",
        "Input:\n",
        "S = aabb\n",
        "Output: ab\n",
        "\n",
        "Explanation: 'a' at 2nd position is\n",
        "appearing 2nd time consecutively.\n",
        "Similiar explanation for b at\n",
        "4th position.\n",
        "\n",
        "Example 2:\n",
        "Input:\n",
        "S = aabaa\n",
        "Output: aba\n",
        "\n",
        "Explanation: 'a' at 2nd position is\n",
        "appearing 2nd time consecutively.\n",
        "'a' at fifth position is appearing\n",
        "2nd time consecutively.\n"
      ],
      "metadata": {
        "id": "WWx-iD5Fzg3u"
      }
    },
    {
      "cell_type": "code",
      "source": [
        "def remove_consecutive_characters(S):\n",
        "    # Initialize an empty result string\n",
        "    result = []\n",
        "\n",
        "    # Iterate through the string `S`\n",
        "    for i in range(len(S)):\n",
        "        # Add the first character or a different character to the result\n",
        "        if i == 0 or S[i] != S[i - 1]:\n",
        "            result.append(S[i])\n",
        "\n",
        "    # Join the list into a string and return\n",
        "    return ''.join(result)\n",
        "\n",
        "# Take input from the user\n",
        "S = input(\"Enter the string (S): \")\n",
        "\n",
        "# Call the function and print the result\n",
        "result = remove_consecutive_characters(S)\n",
        "print(f\"The string after removing consecutive characters is: {result}\")\n"
      ],
      "metadata": {
        "colab": {
          "base_uri": "https://localhost:8080/"
        },
        "id": "YE03hx5W2z2P",
        "outputId": "41915b5d-8513-403c-f81e-c0c97f932618"
      },
      "execution_count": null,
      "outputs": [
        {
          "output_type": "stream",
          "name": "stdout",
          "text": [
            "Enter the string (S): aabcbcaa\n",
            "The string after removing consecutive characters is: abcbca\n"
          ]
        }
      ]
    },
    {
      "cell_type": "markdown",
      "source": [
        "**Repeated** **Character**\n",
        "\n",
        "Given a string consisting of lowercase english alphabets. Find the repeated character present first in\n",
        "the string.\n",
        "NOTE - If there are no repeating characters return '#'.\n",
        "\n",
        "Example 1:\n",
        "\n",
        "Input:\n",
        "S = \"geeksforgeeks\"\n",
        "Output: g\n",
        "Explanation: g, e, k and s are the repeating\n",
        "characters. Out of these, g occurs first.\n",
        "\n",
        "Example 2:\n",
        "\n",
        "Input:\n",
        "S = \"abcde\"\n",
        "Output: -1\n",
        "Explanation: No repeating character present. (You need to return\n",
        "'#')\n"
      ],
      "metadata": {
        "id": "2-I63aDRzhWL"
      }
    },
    {
      "cell_type": "code",
      "source": [
        "def first_repeated_character(S):\n",
        "    seen = set()\n",
        "\n",
        "    # Iterate through each character in the string\n",
        "    for char in S:\n",
        "        # Check if the character has been seen before\n",
        "        if char in seen:\n",
        "            return char\n",
        "        # Add the character to the set\n",
        "        seen.add(char)\n",
        "\n",
        "    # If no repeating character is found\n",
        "    return '#'\n",
        "\n",
        "# Take input from the user\n",
        "S = input(\"Enter the string (S): \")\n",
        "\n",
        "# Call the function and print the result\n",
        "result = first_repeated_character(S)\n",
        "print(f\"The first repeating character is: {result}\")\n"
      ],
      "metadata": {
        "colab": {
          "base_uri": "https://localhost:8080/"
        },
        "id": "4I3CHlOx4Axc",
        "outputId": "61950975-913d-4849-e840-6001b242f66e"
      },
      "execution_count": null,
      "outputs": [
        {
          "output_type": "stream",
          "name": "stdout",
          "text": [
            "Enter the string (S): abbbbaabbcbbb\n",
            "The first repeating character is: b\n"
          ]
        }
      ]
    },
    {
      "cell_type": "markdown",
      "source": [
        "**Anagram** **of** **String**\n",
        "\n",
        "Given two strings S1 and S2 in lowercase, the task is to make them anagram. The only allowed\n",
        "operation is to remove a character from any string. Find the minimum number of characters to be\n",
        "deleted to make both the strings anagram. Two strings are called anagram of each other if one of them\n",
        "can be converted into another by rearranging its letters.\n",
        "\n",
        "Example 1:\n",
        "\n",
        "Input:\n",
        "S1 = bcadeh\n",
        "S2 = hea\n",
        "Output: 3\n",
        "\n",
        "Explanation: We need to remove b, c\n",
        "and d from S1.\n",
        "\n",
        "Example 2:\n",
        "\n",
        "Input:\n",
        "S1 = cddgk\n",
        "S2 = gcd\n",
        "Output: 2\n",
        "Explanation: We need to remove d and\n",
        "k from S1."
      ],
      "metadata": {
        "id": "o--wiFtCzh08"
      }
    },
    {
      "cell_type": "code",
      "source": [
        "from collections import Counter\n",
        "\n",
        "def min_deletions_to_make_anagram(S1, S2):\n",
        "    # Count the frequency of characters in both strings\n",
        "    count1 = Counter(S1)\n",
        "    count2 = Counter(S2)\n",
        "\n",
        "    # Initialize a variable to hold the total deletions required\n",
        "    deletions = 0\n",
        "\n",
        "    # Set of all unique characters in both strings\n",
        "    all_chars = set(count1.keys()).union(set(count2.keys()))\n",
        "\n",
        "    # Calculate the number of deletions required for each character\n",
        "    for char in all_chars:\n",
        "        deletions += abs(count1.get(char, 0) - count2.get(char, 0))\n",
        "\n",
        "    return deletions\n",
        "\n",
        "# Take input from the user\n",
        "S1 = input(\"Enter the first string (S1): \")\n",
        "S2 = input(\"Enter the second string (S2): \")\n",
        "\n",
        "# Call the function and print the result\n",
        "result = min_deletions_to_make_anagram(S1, S2)\n",
        "print(f\"The minimum number of characters to delete to make both strings anagrams is: {result}\")\n"
      ],
      "metadata": {
        "colab": {
          "base_uri": "https://localhost:8080/"
        },
        "id": "p6jOLw4q5iNF",
        "outputId": "d271d059-92c4-4d6f-f884-3a8c64cd1b8f"
      },
      "execution_count": null,
      "outputs": [
        {
          "output_type": "stream",
          "name": "stdout",
          "text": [
            "Enter the first string (S1): cdsgf\n",
            "Enter the second string (S2): csg\n",
            "The minimum number of characters to delete to make both strings anagrams is: 2\n"
          ]
        }
      ]
    },
    {
      "cell_type": "code",
      "source": [
        "def count_characters(s):\n",
        "    # Initialize a dictionary to hold the frequency count of characters\n",
        "    freq = {}\n",
        "    for char in s:\n",
        "        if char in freq:\n",
        "            freq[char] += 1\n",
        "        else:\n",
        "            freq[char] = 1\n",
        "    return freq\n",
        "\n",
        "def min_deletions_to_make_anagram(S1, S2):\n",
        "    # Get the frequency counts for both strings\n",
        "    count1 = count_characters(S1)\n",
        "    count2 = count_characters(S2)\n",
        "\n",
        "    # Initialize a variable to hold the total deletions required\n",
        "    deletions = 0\n",
        "\n",
        "    # Set of all unique characters in both strings\n",
        "    all_chars = set(count1.keys()).union(set(count2.keys()))\n",
        "\n",
        "    # Calculate the number of deletions required for each character\n",
        "    for char in all_chars:\n",
        "        # Get the count for the character in both strings\n",
        "        freq1 = count1.get(char, 0)\n",
        "        freq2 = count2.get(char, 0)\n",
        "        # Add the absolute difference to deletions\n",
        "        deletions += abs(freq1 - freq2)\n",
        "\n",
        "    return deletions\n",
        "\n",
        "# Take input from the user\n",
        "S1 = input(\"Enter the first string (S1): \")\n",
        "S2 = input(\"Enter the second string (S2): \")\n",
        "\n",
        "# Call the function and print the result\n",
        "result = min_deletions_to_make_anagram(S1, S2)\n",
        "print(f\"The minimum number of characters to delete to make both strings anagrams is: {result}\")\n"
      ],
      "metadata": {
        "colab": {
          "base_uri": "https://localhost:8080/"
        },
        "id": "jSLXfa4O5r99",
        "outputId": "9539fb7b-6f50-406c-c537-56c544bacdab"
      },
      "execution_count": null,
      "outputs": [
        {
          "output_type": "stream",
          "name": "stdout",
          "text": [
            "Enter the first string (S1): bcadh\n",
            "Enter the second string (S2): bca\n",
            "The minimum number of characters to delete to make both strings anagrams is: 2\n"
          ]
        }
      ]
    }
  ]
}